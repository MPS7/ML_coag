{
 "cells": [
  {
   "cell_type": "code",
   "execution_count": 1,
   "metadata": {},
   "outputs": [],
   "source": [
    "import pandas as pd\n",
    "import numpy as np\n",
    "import matplotlib.pyplot as plt\n",
    "\n",
    "Mat = np.loadtxt('dataS4.txt')          #read data\n",
    "Matdt = pd.DataFrame(data = Mat, columns = ['gamma', 'k1', 'k2', 'k3', 'k4', 'k5', 'k6', 'k7', 'k8', 'k9', 'D', 'R', 'W', 'res'])\n"
   ]
  },
  {
   "cell_type": "code",
   "execution_count": 15,
   "metadata": {},
   "outputs": [
    {
     "data": {
      "text/html": [
       "<div>\n",
       "<style scoped>\n",
       "    .dataframe tbody tr th:only-of-type {\n",
       "        vertical-align: middle;\n",
       "    }\n",
       "\n",
       "    .dataframe tbody tr th {\n",
       "        vertical-align: top;\n",
       "    }\n",
       "\n",
       "    .dataframe thead th {\n",
       "        text-align: right;\n",
       "    }\n",
       "</style>\n",
       "<table border=\"1\" class=\"dataframe\">\n",
       "  <thead>\n",
       "    <tr style=\"text-align: right;\">\n",
       "      <th></th>\n",
       "      <th>gamma</th>\n",
       "      <th>k1</th>\n",
       "      <th>k2</th>\n",
       "      <th>k3</th>\n",
       "      <th>k4</th>\n",
       "      <th>k5</th>\n",
       "      <th>k6</th>\n",
       "      <th>k7</th>\n",
       "      <th>k8</th>\n",
       "      <th>k9</th>\n",
       "      <th>D</th>\n",
       "      <th>R</th>\n",
       "      <th>W</th>\n",
       "      <th>res</th>\n",
       "    </tr>\n",
       "  </thead>\n",
       "  <tbody>\n",
       "    <tr>\n",
       "      <th>2577</th>\n",
       "      <td>27.107</td>\n",
       "      <td>5000.0</td>\n",
       "      <td>0.000155</td>\n",
       "      <td>2.448000e-07</td>\n",
       "      <td>0.000479</td>\n",
       "      <td>0.000024</td>\n",
       "      <td>2.066700e-06</td>\n",
       "      <td>1.285000e-10</td>\n",
       "      <td>8.066000e-10</td>\n",
       "      <td>0.027203</td>\n",
       "      <td>0.0</td>\n",
       "      <td>0.0</td>\n",
       "      <td>1.0</td>\n",
       "      <td>1.0</td>\n",
       "    </tr>\n",
       "    <tr>\n",
       "      <th>5604</th>\n",
       "      <td>12.515</td>\n",
       "      <td>5000.0</td>\n",
       "      <td>0.000105</td>\n",
       "      <td>2.448000e-07</td>\n",
       "      <td>0.000479</td>\n",
       "      <td>0.000024</td>\n",
       "      <td>2.700900e-06</td>\n",
       "      <td>1.285000e-10</td>\n",
       "      <td>8.066000e-10</td>\n",
       "      <td>0.069347</td>\n",
       "      <td>0.0</td>\n",
       "      <td>1000.0</td>\n",
       "      <td>0.0</td>\n",
       "      <td>2.0</td>\n",
       "    </tr>\n",
       "    <tr>\n",
       "      <th>5781</th>\n",
       "      <td>40.914</td>\n",
       "      <td>5000.0</td>\n",
       "      <td>0.000049</td>\n",
       "      <td>2.448000e-07</td>\n",
       "      <td>0.000479</td>\n",
       "      <td>0.000024</td>\n",
       "      <td>2.997000e-07</td>\n",
       "      <td>1.285000e-10</td>\n",
       "      <td>8.066000e-10</td>\n",
       "      <td>0.027186</td>\n",
       "      <td>0.0</td>\n",
       "      <td>1000.0</td>\n",
       "      <td>0.0</td>\n",
       "      <td>0.0</td>\n",
       "    </tr>\n",
       "    <tr>\n",
       "      <th>6431</th>\n",
       "      <td>17.440</td>\n",
       "      <td>5000.0</td>\n",
       "      <td>0.000006</td>\n",
       "      <td>2.448000e-07</td>\n",
       "      <td>0.000479</td>\n",
       "      <td>0.000024</td>\n",
       "      <td>1.619200e-06</td>\n",
       "      <td>1.285000e-10</td>\n",
       "      <td>8.066000e-10</td>\n",
       "      <td>0.053596</td>\n",
       "      <td>0.0</td>\n",
       "      <td>500.0</td>\n",
       "      <td>0.0</td>\n",
       "      <td>2.0</td>\n",
       "    </tr>\n",
       "    <tr>\n",
       "      <th>2410</th>\n",
       "      <td>28.067</td>\n",
       "      <td>5000.0</td>\n",
       "      <td>0.000193</td>\n",
       "      <td>2.448000e-07</td>\n",
       "      <td>0.000479</td>\n",
       "      <td>0.000024</td>\n",
       "      <td>3.814300e-06</td>\n",
       "      <td>1.285000e-10</td>\n",
       "      <td>8.066000e-10</td>\n",
       "      <td>0.006081</td>\n",
       "      <td>0.0</td>\n",
       "      <td>0.0</td>\n",
       "      <td>1.0</td>\n",
       "      <td>1.0</td>\n",
       "    </tr>\n",
       "  </tbody>\n",
       "</table>\n",
       "</div>"
      ],
      "text/plain": [
       "       gamma      k1        k2            k3        k4        k5  \\\n",
       "2577  27.107  5000.0  0.000155  2.448000e-07  0.000479  0.000024   \n",
       "5604  12.515  5000.0  0.000105  2.448000e-07  0.000479  0.000024   \n",
       "5781  40.914  5000.0  0.000049  2.448000e-07  0.000479  0.000024   \n",
       "6431  17.440  5000.0  0.000006  2.448000e-07  0.000479  0.000024   \n",
       "2410  28.067  5000.0  0.000193  2.448000e-07  0.000479  0.000024   \n",
       "\n",
       "                k6            k7            k8        k9    D       R    W  \\\n",
       "2577  2.066700e-06  1.285000e-10  8.066000e-10  0.027203  0.0     0.0  1.0   \n",
       "5604  2.700900e-06  1.285000e-10  8.066000e-10  0.069347  0.0  1000.0  0.0   \n",
       "5781  2.997000e-07  1.285000e-10  8.066000e-10  0.027186  0.0  1000.0  0.0   \n",
       "6431  1.619200e-06  1.285000e-10  8.066000e-10  0.053596  0.0   500.0  0.0   \n",
       "2410  3.814300e-06  1.285000e-10  8.066000e-10  0.006081  0.0     0.0  1.0   \n",
       "\n",
       "      res  \n",
       "2577  1.0  \n",
       "5604  2.0  \n",
       "5781  0.0  \n",
       "6431  2.0  \n",
       "2410  1.0  "
      ]
     },
     "execution_count": 15,
     "metadata": {},
     "output_type": "execute_result"
    }
   ],
   "source": [
    "Matdt = Matdt.sample(frac = 1)        #shuffle data\n",
    "Matdt.head() "
   ]
  },
  {
   "cell_type": "code",
   "execution_count": 16,
   "metadata": {},
   "outputs": [
    {
     "data": {
      "text/plain": [
       "array([27.107 , 12.515 , 40.914 , ..., 15.869 ,  7.4031, 22.47  ])"
      ]
     },
     "execution_count": 16,
     "metadata": {},
     "output_type": "execute_result"
    }
   ],
   "source": [
    "data = Matdt.to_numpy()          # convert to numpy\n",
    "data[:,0]"
   ]
  },
  {
   "cell_type": "code",
   "execution_count": 17,
   "metadata": {},
   "outputs": [],
   "source": [
    "features = data[:, [0, 2, 6, 9, 10, 11, 12]]           # take only the most sensitive coagulation kinetics (K_2, K_6, K_9)"
   ]
  },
  {
   "cell_type": "code",
   "execution_count": 18,
   "metadata": {},
   "outputs": [],
   "source": [
    "target = data[:, 13]                          #label column"
   ]
  },
  {
   "cell_type": "code",
   "execution_count": 19,
   "metadata": {},
   "outputs": [],
   "source": [
    "features_train = features[:5599, :]          #splitting data into train and test\n",
    "features_test = features[5600:, :]\n",
    "\n",
    "target_train = target[:5599]\n",
    "target_test = target[5600:]\n"
   ]
  },
  {
   "cell_type": "code",
   "execution_count": 32,
   "metadata": {},
   "outputs": [
    {
     "data": {
      "text/plain": [
       "SVC(C=1, gamma=0.1)"
      ]
     },
     "execution_count": 32,
     "metadata": {},
     "output_type": "execute_result"
    }
   ],
   "source": [
    "from sklearn import svm, datasets, metrics\n",
    "C = 1\n",
    "classifier = svm.SVC(kernel='rbf', gamma=0.1, C=C)\n",
    "classifier.fit(features_train, target_train)"
   ]
  },
  {
   "cell_type": "code",
   "execution_count": 33,
   "metadata": {},
   "outputs": [],
   "source": [
    "target_predicted = classifier.predict(features_test)"
   ]
  },
  {
   "cell_type": "code",
   "execution_count": 34,
   "metadata": {},
   "outputs": [
    {
     "name": "stdout",
     "output_type": "stream",
     "text": [
      "Classification report for classifier SVC(C=1, gamma=0.1):\n",
      "              precision    recall  f1-score   support\n",
      "\n",
      "           0       0.95      0.95      0.95       338\n",
      "           1       0.93      0.92      0.92       395\n",
      "           2       0.98      0.98      0.98       667\n",
      "\n",
      "    accuracy                           0.96      1400\n",
      "   macro avg       0.95      0.95      0.95      1400\n",
      "weighted avg       0.96      0.96      0.96      1400\n",
      "\n",
      "\n"
     ]
    }
   ],
   "source": [
    "print(\"Classification report for classifier %s:\\n%s\\n\"\n",
    "      % (classifier, metrics.classification_report(target_test, target_predicted, labels=[0, 1, 2])))"
   ]
  }
 ],
 "metadata": {
  "kernelspec": {
   "display_name": "Python 3",
   "language": "python",
   "name": "python3"
  },
  "language_info": {
   "codemirror_mode": {
    "name": "ipython",
    "version": 3
   },
   "file_extension": ".py",
   "mimetype": "text/x-python",
   "name": "python",
   "nbconvert_exporter": "python",
   "pygments_lexer": "ipython3",
   "version": "3.8.5"
  }
 },
 "nbformat": 4,
 "nbformat_minor": 4
}
