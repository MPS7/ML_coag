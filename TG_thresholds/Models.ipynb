{
  "cells": [
    {
      "cell_type": "code",
      "source": [
        "from google.colab import drive\n",
        "drive.mount('/content/drive')"
      ],
      "metadata": {
        "colab": {
          "base_uri": "https://localhost:8080/"
        },
        "id": "y0DB_KwL2GE2",
        "outputId": "48e6aecf-a96e-446d-90aa-ac91f2e58d9c"
      },
      "id": "y0DB_KwL2GE2",
      "execution_count": 1,
      "outputs": [
        {
          "output_type": "stream",
          "name": "stdout",
          "text": [
            "Drive already mounted at /content/drive; to attempt to forcibly remount, call drive.mount(\"/content/drive\", force_remount=True).\n"
          ]
        }
      ]
    },
    {
      "cell_type": "code",
      "execution_count": 2,
      "id": "ee0b040f",
      "metadata": {
        "id": "ee0b040f"
      },
      "outputs": [],
      "source": [
        "import matplotlib.pyplot as plt\n",
        "import pandas as pd\n",
        "import numpy as np\n"
      ]
    },
    {
      "cell_type": "code",
      "execution_count": 3,
      "id": "0a5c7adf",
      "metadata": {
        "id": "0a5c7adf"
      },
      "outputs": [],
      "source": [
        "import tensorflow as tf"
      ]
    },
    {
      "cell_type": "code",
      "execution_count": 4,
      "id": "bce0d04c",
      "metadata": {
        "id": "bce0d04c"
      },
      "outputs": [],
      "source": [
        "newMat = pd.read_csv('/content/drive/MyDrive/Colab Notebooks/Graduate research new_code/newMat_CSV.csv')"
      ]
    },
    {
      "cell_type": "code",
      "source": [
        "newMat"
      ],
      "metadata": {
        "colab": {
          "base_uri": "https://localhost:8080/",
          "height": 661
        },
        "id": "FbUnI7HL3FXA",
        "outputId": "df5b5871-4c32-40b6-8009-3891ac3d3f64"
      },
      "id": "FbUnI7HL3FXA",
      "execution_count": 5,
      "outputs": [
        {
          "output_type": "execute_result",
          "data": {
            "text/plain": [
              "           dp        dx        k2            k3        k4        k5        k6  \\\n",
              "0     703.355  0.220495  0.000012  2.370500e-07  0.000482  0.000020  0.000004   \n",
              "1     715.103  0.227286  0.000010  2.277300e-07  0.000464  0.000019  0.000004   \n",
              "2     628.882  0.257888  0.000010  2.628810e-07  0.000522  0.000017  0.000004   \n",
              "3     542.294  0.139077  0.000011  2.490990e-07  0.000436  0.000017  0.000004   \n",
              "4     310.933  0.148333  0.000010  2.400490e-07  0.000514  0.000019  0.000004   \n",
              "...       ...       ...       ...           ...       ...       ...       ...   \n",
              "3547  319.908  0.286154  0.000011  2.494290e-07  0.000466  0.000017  0.000004   \n",
              "3548  288.369  0.367184  0.000012  2.271410e-07  0.000438  0.000019  0.000004   \n",
              "3549  260.578  0.151167  0.000010  2.295580e-07  0.000459  0.000018  0.000004   \n",
              "3550  676.764  0.334048  0.000010  2.404450e-07  0.000517  0.000018  0.000004   \n",
              "3551  392.361  0.112797  0.000011  2.669170e-07  0.000489  0.000020  0.000004   \n",
              "\n",
              "                k7            k8        k9      PP0       B0    sumClot  \\\n",
              "0     1.181680e-10  3.692580e-10  0.020202  1385.25  134.310    4440.68   \n",
              "1     1.311100e-10  4.344110e-10  0.021096  1450.93  133.434    3365.83   \n",
              "2     1.240010e-10  4.065420e-10  0.021132  1376.71  136.873    5599.67   \n",
              "3     1.168780e-10  4.194810e-10  0.021173  1442.96  126.789    3355.50   \n",
              "4     1.172680e-10  4.038340e-10  0.022095  1370.79  126.351  165721.00   \n",
              "...            ...           ...       ...      ...      ...        ...   \n",
              "3547  1.355490e-10  3.676460e-10  0.018645  1327.53  126.362  309529.00   \n",
              "3548  1.397520e-10  4.390840e-10  0.019049  1538.97  138.498  520793.00   \n",
              "3549  1.184200e-10  3.892140e-10  0.019481  1332.73  123.871  251406.00   \n",
              "3550  1.371150e-10  4.025380e-10  0.019543  1400.80  127.467    6758.98   \n",
              "3551  1.411930e-10  3.921320e-10  0.019923  1330.18  139.420   61497.00   \n",
              "\n",
              "      maxHeight      LagT          ETP       Cmax       Tmax  clot_size  \n",
              "0           0.0  2.325000   854.167038  50.543897  24.350000          0  \n",
              "1           0.0  2.391667   735.767126  42.519202  26.641667          0  \n",
              "2           0.0  2.658333   553.294675  32.737451  29.775000          0  \n",
              "3           0.0  2.708333   593.556719  35.569647  29.466667          0  \n",
              "4           5.0  2.616667   535.849464  30.728191  29.275000          1  \n",
              "...         ...       ...          ...        ...        ...        ...  \n",
              "3547        6.0  2.683333   653.734867  39.278895  28.875000          1  \n",
              "3548        7.0  2.075000  1190.098502  87.923754  20.941667          1  \n",
              "3549        6.0  2.683333   591.656365  35.119884  29.525000          1  \n",
              "3550        0.0  2.558333   673.807792  40.078959  28.516667          0  \n",
              "3551        3.0  2.350000   796.615311  46.971231  25.441667          1  \n",
              "\n",
              "[3552 rows x 19 columns]"
            ],
            "text/html": [
              "\n",
              "  <div id=\"df-e6af9d62-a092-43b8-b8f3-0d48d607fb46\">\n",
              "    <div class=\"colab-df-container\">\n",
              "      <div>\n",
              "<style scoped>\n",
              "    .dataframe tbody tr th:only-of-type {\n",
              "        vertical-align: middle;\n",
              "    }\n",
              "\n",
              "    .dataframe tbody tr th {\n",
              "        vertical-align: top;\n",
              "    }\n",
              "\n",
              "    .dataframe thead th {\n",
              "        text-align: right;\n",
              "    }\n",
              "</style>\n",
              "<table border=\"1\" class=\"dataframe\">\n",
              "  <thead>\n",
              "    <tr style=\"text-align: right;\">\n",
              "      <th></th>\n",
              "      <th>dp</th>\n",
              "      <th>dx</th>\n",
              "      <th>k2</th>\n",
              "      <th>k3</th>\n",
              "      <th>k4</th>\n",
              "      <th>k5</th>\n",
              "      <th>k6</th>\n",
              "      <th>k7</th>\n",
              "      <th>k8</th>\n",
              "      <th>k9</th>\n",
              "      <th>PP0</th>\n",
              "      <th>B0</th>\n",
              "      <th>sumClot</th>\n",
              "      <th>maxHeight</th>\n",
              "      <th>LagT</th>\n",
              "      <th>ETP</th>\n",
              "      <th>Cmax</th>\n",
              "      <th>Tmax</th>\n",
              "      <th>clot_size</th>\n",
              "    </tr>\n",
              "  </thead>\n",
              "  <tbody>\n",
              "    <tr>\n",
              "      <th>0</th>\n",
              "      <td>703.355</td>\n",
              "      <td>0.220495</td>\n",
              "      <td>0.000012</td>\n",
              "      <td>2.370500e-07</td>\n",
              "      <td>0.000482</td>\n",
              "      <td>0.000020</td>\n",
              "      <td>0.000004</td>\n",
              "      <td>1.181680e-10</td>\n",
              "      <td>3.692580e-10</td>\n",
              "      <td>0.020202</td>\n",
              "      <td>1385.25</td>\n",
              "      <td>134.310</td>\n",
              "      <td>4440.68</td>\n",
              "      <td>0.0</td>\n",
              "      <td>2.325000</td>\n",
              "      <td>854.167038</td>\n",
              "      <td>50.543897</td>\n",
              "      <td>24.350000</td>\n",
              "      <td>0</td>\n",
              "    </tr>\n",
              "    <tr>\n",
              "      <th>1</th>\n",
              "      <td>715.103</td>\n",
              "      <td>0.227286</td>\n",
              "      <td>0.000010</td>\n",
              "      <td>2.277300e-07</td>\n",
              "      <td>0.000464</td>\n",
              "      <td>0.000019</td>\n",
              "      <td>0.000004</td>\n",
              "      <td>1.311100e-10</td>\n",
              "      <td>4.344110e-10</td>\n",
              "      <td>0.021096</td>\n",
              "      <td>1450.93</td>\n",
              "      <td>133.434</td>\n",
              "      <td>3365.83</td>\n",
              "      <td>0.0</td>\n",
              "      <td>2.391667</td>\n",
              "      <td>735.767126</td>\n",
              "      <td>42.519202</td>\n",
              "      <td>26.641667</td>\n",
              "      <td>0</td>\n",
              "    </tr>\n",
              "    <tr>\n",
              "      <th>2</th>\n",
              "      <td>628.882</td>\n",
              "      <td>0.257888</td>\n",
              "      <td>0.000010</td>\n",
              "      <td>2.628810e-07</td>\n",
              "      <td>0.000522</td>\n",
              "      <td>0.000017</td>\n",
              "      <td>0.000004</td>\n",
              "      <td>1.240010e-10</td>\n",
              "      <td>4.065420e-10</td>\n",
              "      <td>0.021132</td>\n",
              "      <td>1376.71</td>\n",
              "      <td>136.873</td>\n",
              "      <td>5599.67</td>\n",
              "      <td>0.0</td>\n",
              "      <td>2.658333</td>\n",
              "      <td>553.294675</td>\n",
              "      <td>32.737451</td>\n",
              "      <td>29.775000</td>\n",
              "      <td>0</td>\n",
              "    </tr>\n",
              "    <tr>\n",
              "      <th>3</th>\n",
              "      <td>542.294</td>\n",
              "      <td>0.139077</td>\n",
              "      <td>0.000011</td>\n",
              "      <td>2.490990e-07</td>\n",
              "      <td>0.000436</td>\n",
              "      <td>0.000017</td>\n",
              "      <td>0.000004</td>\n",
              "      <td>1.168780e-10</td>\n",
              "      <td>4.194810e-10</td>\n",
              "      <td>0.021173</td>\n",
              "      <td>1442.96</td>\n",
              "      <td>126.789</td>\n",
              "      <td>3355.50</td>\n",
              "      <td>0.0</td>\n",
              "      <td>2.708333</td>\n",
              "      <td>593.556719</td>\n",
              "      <td>35.569647</td>\n",
              "      <td>29.466667</td>\n",
              "      <td>0</td>\n",
              "    </tr>\n",
              "    <tr>\n",
              "      <th>4</th>\n",
              "      <td>310.933</td>\n",
              "      <td>0.148333</td>\n",
              "      <td>0.000010</td>\n",
              "      <td>2.400490e-07</td>\n",
              "      <td>0.000514</td>\n",
              "      <td>0.000019</td>\n",
              "      <td>0.000004</td>\n",
              "      <td>1.172680e-10</td>\n",
              "      <td>4.038340e-10</td>\n",
              "      <td>0.022095</td>\n",
              "      <td>1370.79</td>\n",
              "      <td>126.351</td>\n",
              "      <td>165721.00</td>\n",
              "      <td>5.0</td>\n",
              "      <td>2.616667</td>\n",
              "      <td>535.849464</td>\n",
              "      <td>30.728191</td>\n",
              "      <td>29.275000</td>\n",
              "      <td>1</td>\n",
              "    </tr>\n",
              "    <tr>\n",
              "      <th>...</th>\n",
              "      <td>...</td>\n",
              "      <td>...</td>\n",
              "      <td>...</td>\n",
              "      <td>...</td>\n",
              "      <td>...</td>\n",
              "      <td>...</td>\n",
              "      <td>...</td>\n",
              "      <td>...</td>\n",
              "      <td>...</td>\n",
              "      <td>...</td>\n",
              "      <td>...</td>\n",
              "      <td>...</td>\n",
              "      <td>...</td>\n",
              "      <td>...</td>\n",
              "      <td>...</td>\n",
              "      <td>...</td>\n",
              "      <td>...</td>\n",
              "      <td>...</td>\n",
              "      <td>...</td>\n",
              "    </tr>\n",
              "    <tr>\n",
              "      <th>3547</th>\n",
              "      <td>319.908</td>\n",
              "      <td>0.286154</td>\n",
              "      <td>0.000011</td>\n",
              "      <td>2.494290e-07</td>\n",
              "      <td>0.000466</td>\n",
              "      <td>0.000017</td>\n",
              "      <td>0.000004</td>\n",
              "      <td>1.355490e-10</td>\n",
              "      <td>3.676460e-10</td>\n",
              "      <td>0.018645</td>\n",
              "      <td>1327.53</td>\n",
              "      <td>126.362</td>\n",
              "      <td>309529.00</td>\n",
              "      <td>6.0</td>\n",
              "      <td>2.683333</td>\n",
              "      <td>653.734867</td>\n",
              "      <td>39.278895</td>\n",
              "      <td>28.875000</td>\n",
              "      <td>1</td>\n",
              "    </tr>\n",
              "    <tr>\n",
              "      <th>3548</th>\n",
              "      <td>288.369</td>\n",
              "      <td>0.367184</td>\n",
              "      <td>0.000012</td>\n",
              "      <td>2.271410e-07</td>\n",
              "      <td>0.000438</td>\n",
              "      <td>0.000019</td>\n",
              "      <td>0.000004</td>\n",
              "      <td>1.397520e-10</td>\n",
              "      <td>4.390840e-10</td>\n",
              "      <td>0.019049</td>\n",
              "      <td>1538.97</td>\n",
              "      <td>138.498</td>\n",
              "      <td>520793.00</td>\n",
              "      <td>7.0</td>\n",
              "      <td>2.075000</td>\n",
              "      <td>1190.098502</td>\n",
              "      <td>87.923754</td>\n",
              "      <td>20.941667</td>\n",
              "      <td>1</td>\n",
              "    </tr>\n",
              "    <tr>\n",
              "      <th>3549</th>\n",
              "      <td>260.578</td>\n",
              "      <td>0.151167</td>\n",
              "      <td>0.000010</td>\n",
              "      <td>2.295580e-07</td>\n",
              "      <td>0.000459</td>\n",
              "      <td>0.000018</td>\n",
              "      <td>0.000004</td>\n",
              "      <td>1.184200e-10</td>\n",
              "      <td>3.892140e-10</td>\n",
              "      <td>0.019481</td>\n",
              "      <td>1332.73</td>\n",
              "      <td>123.871</td>\n",
              "      <td>251406.00</td>\n",
              "      <td>6.0</td>\n",
              "      <td>2.683333</td>\n",
              "      <td>591.656365</td>\n",
              "      <td>35.119884</td>\n",
              "      <td>29.525000</td>\n",
              "      <td>1</td>\n",
              "    </tr>\n",
              "    <tr>\n",
              "      <th>3550</th>\n",
              "      <td>676.764</td>\n",
              "      <td>0.334048</td>\n",
              "      <td>0.000010</td>\n",
              "      <td>2.404450e-07</td>\n",
              "      <td>0.000517</td>\n",
              "      <td>0.000018</td>\n",
              "      <td>0.000004</td>\n",
              "      <td>1.371150e-10</td>\n",
              "      <td>4.025380e-10</td>\n",
              "      <td>0.019543</td>\n",
              "      <td>1400.80</td>\n",
              "      <td>127.467</td>\n",
              "      <td>6758.98</td>\n",
              "      <td>0.0</td>\n",
              "      <td>2.558333</td>\n",
              "      <td>673.807792</td>\n",
              "      <td>40.078959</td>\n",
              "      <td>28.516667</td>\n",
              "      <td>0</td>\n",
              "    </tr>\n",
              "    <tr>\n",
              "      <th>3551</th>\n",
              "      <td>392.361</td>\n",
              "      <td>0.112797</td>\n",
              "      <td>0.000011</td>\n",
              "      <td>2.669170e-07</td>\n",
              "      <td>0.000489</td>\n",
              "      <td>0.000020</td>\n",
              "      <td>0.000004</td>\n",
              "      <td>1.411930e-10</td>\n",
              "      <td>3.921320e-10</td>\n",
              "      <td>0.019923</td>\n",
              "      <td>1330.18</td>\n",
              "      <td>139.420</td>\n",
              "      <td>61497.00</td>\n",
              "      <td>3.0</td>\n",
              "      <td>2.350000</td>\n",
              "      <td>796.615311</td>\n",
              "      <td>46.971231</td>\n",
              "      <td>25.441667</td>\n",
              "      <td>1</td>\n",
              "    </tr>\n",
              "  </tbody>\n",
              "</table>\n",
              "<p>3552 rows × 19 columns</p>\n",
              "</div>\n",
              "      <button class=\"colab-df-convert\" onclick=\"convertToInteractive('df-e6af9d62-a092-43b8-b8f3-0d48d607fb46')\"\n",
              "              title=\"Convert this dataframe to an interactive table.\"\n",
              "              style=\"display:none;\">\n",
              "        \n",
              "  <svg xmlns=\"http://www.w3.org/2000/svg\" height=\"24px\"viewBox=\"0 0 24 24\"\n",
              "       width=\"24px\">\n",
              "    <path d=\"M0 0h24v24H0V0z\" fill=\"none\"/>\n",
              "    <path d=\"M18.56 5.44l.94 2.06.94-2.06 2.06-.94-2.06-.94-.94-2.06-.94 2.06-2.06.94zm-11 1L8.5 8.5l.94-2.06 2.06-.94-2.06-.94L8.5 2.5l-.94 2.06-2.06.94zm10 10l.94 2.06.94-2.06 2.06-.94-2.06-.94-.94-2.06-.94 2.06-2.06.94z\"/><path d=\"M17.41 7.96l-1.37-1.37c-.4-.4-.92-.59-1.43-.59-.52 0-1.04.2-1.43.59L10.3 9.45l-7.72 7.72c-.78.78-.78 2.05 0 2.83L4 21.41c.39.39.9.59 1.41.59.51 0 1.02-.2 1.41-.59l7.78-7.78 2.81-2.81c.8-.78.8-2.07 0-2.86zM5.41 20L4 18.59l7.72-7.72 1.47 1.35L5.41 20z\"/>\n",
              "  </svg>\n",
              "      </button>\n",
              "      \n",
              "  <style>\n",
              "    .colab-df-container {\n",
              "      display:flex;\n",
              "      flex-wrap:wrap;\n",
              "      gap: 12px;\n",
              "    }\n",
              "\n",
              "    .colab-df-convert {\n",
              "      background-color: #E8F0FE;\n",
              "      border: none;\n",
              "      border-radius: 50%;\n",
              "      cursor: pointer;\n",
              "      display: none;\n",
              "      fill: #1967D2;\n",
              "      height: 32px;\n",
              "      padding: 0 0 0 0;\n",
              "      width: 32px;\n",
              "    }\n",
              "\n",
              "    .colab-df-convert:hover {\n",
              "      background-color: #E2EBFA;\n",
              "      box-shadow: 0px 1px 2px rgba(60, 64, 67, 0.3), 0px 1px 3px 1px rgba(60, 64, 67, 0.15);\n",
              "      fill: #174EA6;\n",
              "    }\n",
              "\n",
              "    [theme=dark] .colab-df-convert {\n",
              "      background-color: #3B4455;\n",
              "      fill: #D2E3FC;\n",
              "    }\n",
              "\n",
              "    [theme=dark] .colab-df-convert:hover {\n",
              "      background-color: #434B5C;\n",
              "      box-shadow: 0px 1px 3px 1px rgba(0, 0, 0, 0.15);\n",
              "      filter: drop-shadow(0px 1px 2px rgba(0, 0, 0, 0.3));\n",
              "      fill: #FFFFFF;\n",
              "    }\n",
              "  </style>\n",
              "\n",
              "      <script>\n",
              "        const buttonEl =\n",
              "          document.querySelector('#df-e6af9d62-a092-43b8-b8f3-0d48d607fb46 button.colab-df-convert');\n",
              "        buttonEl.style.display =\n",
              "          google.colab.kernel.accessAllowed ? 'block' : 'none';\n",
              "\n",
              "        async function convertToInteractive(key) {\n",
              "          const element = document.querySelector('#df-e6af9d62-a092-43b8-b8f3-0d48d607fb46');\n",
              "          const dataTable =\n",
              "            await google.colab.kernel.invokeFunction('convertToInteractive',\n",
              "                                                     [key], {});\n",
              "          if (!dataTable) return;\n",
              "\n",
              "          const docLinkHtml = 'Like what you see? Visit the ' +\n",
              "            '<a target=\"_blank\" href=https://colab.research.google.com/notebooks/data_table.ipynb>data table notebook</a>'\n",
              "            + ' to learn more about interactive tables.';\n",
              "          element.innerHTML = '';\n",
              "          dataTable['output_type'] = 'display_data';\n",
              "          await google.colab.output.renderOutput(dataTable, element);\n",
              "          const docLink = document.createElement('div');\n",
              "          docLink.innerHTML = docLinkHtml;\n",
              "          element.appendChild(docLink);\n",
              "        }\n",
              "      </script>\n",
              "    </div>\n",
              "  </div>\n",
              "  "
            ]
          },
          "metadata": {},
          "execution_count": 5
        }
      ]
    },
    {
      "cell_type": "markdown",
      "source": [
        "def clot_size(value):\n",
        "    if value <= 1:\n",
        "        return 0\n",
        "    elif 2 <= value <= 10:\n",
        "        return 1\n",
        "\n",
        "    \n",
        "\n",
        "newMat['clot_size'] = newMat['maxHeight'].map(clot_size)"
      ],
      "metadata": {
        "id": "244595f7"
      },
      "id": "244595f7"
    },
    {
      "cell_type": "code",
      "execution_count": 6,
      "id": "371af856",
      "metadata": {
        "id": "371af856",
        "colab": {
          "base_uri": "https://localhost:8080/"
        },
        "outputId": "07244f5b-bccb-4a7d-da6a-2c77fc78e6ed"
      },
      "outputs": [
        {
          "output_type": "stream",
          "name": "stderr",
          "text": [
            "WARNING:tensorflow:From <ipython-input-6-49c19464031c>:2: categorical_column_with_vocabulary_list (from tensorflow.python.feature_column.feature_column_v2) is deprecated and will be removed in a future version.\n",
            "Instructions for updating:\n",
            "Use Keras preprocessing layers instead, either directly or via the `tf.keras.utils.FeatureSpace` utility. Each of `tf.feature_column.*` has a functional equivalent in `tf.keras.layers` for feature preprocessing when training a Keras model.\n"
          ]
        }
      ],
      "source": [
        "from sklearn.metrics import accuracy_score\n",
        "res = tf.feature_column.categorical_column_with_vocabulary_list(\"clot_size\", [0, 1])"
      ]
    },
    {
      "cell_type": "code",
      "execution_count": 7,
      "id": "e1397d32",
      "metadata": {
        "id": "e1397d32",
        "colab": {
          "base_uri": "https://localhost:8080/"
        },
        "outputId": "41eae716-5009-4dc4-f0cd-7770c48c8358"
      },
      "outputs": [
        {
          "output_type": "stream",
          "name": "stderr",
          "text": [
            "WARNING:tensorflow:From <ipython-input-7-1b052ed1c6a9>:1: numeric_column (from tensorflow.python.feature_column.feature_column_v2) is deprecated and will be removed in a future version.\n",
            "Instructions for updating:\n",
            "Use Keras preprocessing layers instead, either directly or via the `tf.keras.utils.FeatureSpace` utility. Each of `tf.feature_column.*` has a functional equivalent in `tf.keras.layers` for feature preprocessing when training a Keras model.\n"
          ]
        }
      ],
      "source": [
        "dp = tf.feature_column.numeric_column(\"dp\")\n",
        "dx = tf.feature_column.numeric_column(\"dx\")\n",
        "LagT = tf.feature_column.numeric_column(\"LagT\")\n",
        "ETP = tf.feature_column.numeric_column(\"ETP\")\n",
        "Cmax = tf.feature_column.numeric_column(\"Cmax\")\n",
        "Tmax = tf.feature_column.numeric_column(\"Tmax\")"
      ]
    },
    {
      "cell_type": "code",
      "execution_count": 8,
      "id": "e7cdd650",
      "metadata": {
        "id": "e7cdd650"
      },
      "outputs": [],
      "source": [
        "from sklearn.model_selection import train_test_split\n",
        "x_data = newMat[[\"dp\", \"dx\", \"LagT\", \"ETP\", \"Cmax\", \"Tmax\"]]\n",
        "y_labels = newMat['clot_size']\n",
        "X_train, X_test, y_train, y_test = train_test_split(x_data,y_labels,test_size=0.3,random_state=101)\n",
        "X_train, X_test, y_train, y_test = train_test_split(x_data,y_labels,test_size=0.3,random_state=101)"
      ]
    },
    {
      "cell_type": "code",
      "execution_count": 9,
      "id": "be0a7cef",
      "metadata": {
        "id": "be0a7cef"
      },
      "outputs": [],
      "source": [
        "y_train = pd.to_numeric(y_train, downcast='integer')\n",
        "y_test = pd.to_numeric(y_test, downcast = 'integer')\n",
        "y_train = y_train.astype(int)\n",
        "y_test = y_test.astype(int)"
      ]
    },
    {
      "cell_type": "code",
      "execution_count": 10,
      "id": "6fdaa7a0",
      "metadata": {
        "id": "6fdaa7a0"
      },
      "outputs": [],
      "source": [
        "feat_cols = [dp, dx, LagT, ETP, Cmax, Tmax]"
      ]
    },
    {
      "cell_type": "code",
      "execution_count": 11,
      "id": "204966a6",
      "metadata": {
        "colab": {
          "base_uri": "https://localhost:8080/"
        },
        "id": "204966a6",
        "outputId": "f1b97044-9ef7-43b1-f117-e08e4f0f9f83"
      },
      "outputs": [
        {
          "output_type": "stream",
          "name": "stderr",
          "text": [
            "WARNING:tensorflow:From /usr/local/lib/python3.10/dist-packages/tensorflow/python/util/lazy_loader.py:59: The name tf.estimator.inputs is deprecated. Please use tf.compat.v1.estimator.inputs instead.\n",
            "\n",
            "WARNING:tensorflow:From <ipython-input-11-e4156dbcdad8>:1: pandas_input_fn (from tensorflow_estimator.python.estimator.inputs.pandas_io) is deprecated and will be removed in a future version.\n",
            "Instructions for updating:\n",
            "Use tf.keras instead.\n"
          ]
        }
      ],
      "source": [
        "input_func=tf.compat.v1.estimator.inputs.pandas_input_fn(x=X_train,\n",
        "                                               y=y_train,\n",
        "                                               batch_size=200,\n",
        "                                               num_epochs=None,\n",
        "                                               shuffle=True)"
      ]
    },
    {
      "cell_type": "code",
      "execution_count": 12,
      "id": "a910fd37",
      "metadata": {
        "id": "a910fd37"
      },
      "outputs": [],
      "source": [
        "from sklearn import svm, datasets, metrics\n"
      ]
    },
    {
      "cell_type": "code",
      "execution_count": 13,
      "id": "2222613b",
      "metadata": {
        "colab": {
          "base_uri": "https://localhost:8080/"
        },
        "id": "2222613b",
        "outputId": "5e3b0bc3-f52a-4916-8be3-482d8d735741"
      },
      "outputs": [
        {
          "output_type": "stream",
          "name": "stderr",
          "text": [
            "WARNING:tensorflow:From <ipython-input-13-4969c2b8f946>:1: LinearClassifierV2.__init__ (from tensorflow_estimator.python.estimator.canned.linear) is deprecated and will be removed in a future version.\n",
            "Instructions for updating:\n",
            "Use tf.keras instead.\n",
            "WARNING:tensorflow:From /usr/local/lib/python3.10/dist-packages/tensorflow_estimator/python/estimator/head/head_utils.py:54: BinaryClassHead.__init__ (from tensorflow_estimator.python.estimator.head.binary_class_head) is deprecated and will be removed in a future version.\n",
            "Instructions for updating:\n",
            "Use tf.keras instead.\n",
            "WARNING:tensorflow:From /usr/local/lib/python3.10/dist-packages/tensorflow_estimator/python/estimator/canned/linear.py:944: Estimator.__init__ (from tensorflow_estimator.python.estimator.estimator) is deprecated and will be removed in a future version.\n",
            "Instructions for updating:\n",
            "Use tf.keras instead.\n",
            "WARNING:tensorflow:From /usr/local/lib/python3.10/dist-packages/tensorflow_estimator/python/estimator/estimator.py:1842: RunConfig.__init__ (from tensorflow_estimator.python.estimator.run_config) is deprecated and will be removed in a future version.\n",
            "Instructions for updating:\n",
            "Use tf.keras instead.\n",
            "WARNING:tensorflow:Using temporary folder as model directory: /tmp/tmpizemokjp\n"
          ]
        }
      ],
      "source": [
        "model = tf.estimator.LinearClassifier(feature_columns=feat_cols, n_classes=2)"
      ]
    },
    {
      "cell_type": "code",
      "execution_count": 14,
      "id": "4ed91f65",
      "metadata": {
        "colab": {
          "base_uri": "https://localhost:8080/"
        },
        "id": "4ed91f65",
        "outputId": "866407f2-2d35-4a59-972e-c42cc64f0b48"
      },
      "outputs": [
        {
          "output_type": "stream",
          "name": "stderr",
          "text": [
            "WARNING:tensorflow:From <ipython-input-14-d2cff3aaa4c5>:3: DNNClassifierV2.__init__ (from tensorflow_estimator.python.estimator.canned.dnn) is deprecated and will be removed in a future version.\n",
            "Instructions for updating:\n",
            "Use tf.keras instead.\n",
            "WARNING:tensorflow:Using temporary folder as model directory: /tmp/tmprgn7kuzx\n"
          ]
        }
      ],
      "source": [
        "from tensorflow.keras.optimizers import legacy\n",
        "\n",
        "model = tf.estimator.DNNClassifier(feature_columns=feat_cols, optimizer = legacy.Adam, \n",
        "                                          hidden_units=[500, 250, 100],\n",
        "                                          #dropout=0.025,\n",
        "                                          #activation_fn = tf.nn.softmax,\n",
        "                                          #optimizer='Adagrad',\n",
        "                                          n_classes=2)"
      ]
    },
    {
      "cell_type": "code",
      "execution_count": 15,
      "id": "6bcecef4",
      "metadata": {
        "id": "6bcecef4"
      },
      "outputs": [],
      "source": [
        "y_test_n = y_test.to_numpy()"
      ]
    },
    {
      "cell_type": "code",
      "execution_count": 16,
      "id": "f629e86d",
      "metadata": {
        "colab": {
          "base_uri": "https://localhost:8080/"
        },
        "id": "f629e86d",
        "outputId": "b76146e7-1639-4ca8-9f14-c65ce8756ce7"
      },
      "outputs": [
        {
          "output_type": "stream",
          "name": "stderr",
          "text": [
            "WARNING:tensorflow:From /usr/local/lib/python3.10/dist-packages/tensorflow_estimator/python/estimator/estimator.py:385: StopAtStepHook.__init__ (from tensorflow.python.training.basic_session_run_hooks) is deprecated and will be removed in a future version.\n",
            "Instructions for updating:\n",
            "Use tf.keras instead.\n",
            "WARNING:tensorflow:From /usr/local/lib/python3.10/dist-packages/tensorflow/python/training/training_util.py:396: Variable.initialized_value (from tensorflow.python.ops.variables) is deprecated and will be removed in a future version.\n",
            "Instructions for updating:\n",
            "Use Variable.read_value. Variables in 2.X are initialized automatically both in eager and graph (inside tf.defun) contexts.\n",
            "WARNING:tensorflow:From /usr/local/lib/python3.10/dist-packages/tensorflow_estimator/python/estimator/inputs/queues/feeding_queue_runner.py:60: QueueRunner.__init__ (from tensorflow.python.training.queue_runner_impl) is deprecated and will be removed in a future version.\n",
            "Instructions for updating:\n",
            "To construct input pipelines, use the `tf.data` module.\n",
            "WARNING:tensorflow:From /usr/local/lib/python3.10/dist-packages/tensorflow_estimator/python/estimator/inputs/queues/feeding_functions.py:491: add_queue_runner (from tensorflow.python.training.queue_runner_impl) is deprecated and will be removed in a future version.\n",
            "Instructions for updating:\n",
            "To construct input pipelines, use the `tf.data` module.\n"
          ]
        },
        {
          "output_type": "stream",
          "name": "stdout",
          "text": [
            "Training model...\n",
            "LogLoss error (on validation data):\n"
          ]
        },
        {
          "output_type": "stream",
          "name": "stderr",
          "text": [
            "WARNING:tensorflow:From /usr/local/lib/python3.10/dist-packages/tensorflow_estimator/python/estimator/model_fn.py:250: EstimatorSpec.__new__ (from tensorflow_estimator.python.estimator.model_fn) is deprecated and will be removed in a future version.\n",
            "Instructions for updating:\n",
            "Use tf.keras instead.\n",
            "WARNING:tensorflow:From /usr/local/lib/python3.10/dist-packages/tensorflow_estimator/python/estimator/estimator.py:1414: NanTensorHook.__init__ (from tensorflow.python.training.basic_session_run_hooks) is deprecated and will be removed in a future version.\n",
            "Instructions for updating:\n",
            "Use tf.keras instead.\n",
            "WARNING:tensorflow:From /usr/local/lib/python3.10/dist-packages/tensorflow_estimator/python/estimator/estimator.py:1417: LoggingTensorHook.__init__ (from tensorflow.python.training.basic_session_run_hooks) is deprecated and will be removed in a future version.\n",
            "Instructions for updating:\n",
            "Use tf.keras instead.\n",
            "WARNING:tensorflow:From /usr/local/lib/python3.10/dist-packages/tensorflow/python/training/basic_session_run_hooks.py:232: SecondOrStepTimer.__init__ (from tensorflow.python.training.basic_session_run_hooks) is deprecated and will be removed in a future version.\n",
            "Instructions for updating:\n",
            "Use tf.keras instead.\n",
            "WARNING:tensorflow:From /usr/local/lib/python3.10/dist-packages/tensorflow_estimator/python/estimator/estimator.py:1454: CheckpointSaverHook.__init__ (from tensorflow.python.training.basic_session_run_hooks) is deprecated and will be removed in a future version.\n",
            "Instructions for updating:\n",
            "Use tf.keras instead.\n",
            "WARNING:tensorflow:From /usr/local/lib/python3.10/dist-packages/tensorflow/python/training/monitored_session.py:579: StepCounterHook.__init__ (from tensorflow.python.training.basic_session_run_hooks) is deprecated and will be removed in a future version.\n",
            "Instructions for updating:\n",
            "Use tf.keras instead.\n",
            "WARNING:tensorflow:From /usr/local/lib/python3.10/dist-packages/tensorflow/python/training/monitored_session.py:586: SummarySaverHook.__init__ (from tensorflow.python.training.basic_session_run_hooks) is deprecated and will be removed in a future version.\n",
            "Instructions for updating:\n",
            "Use tf.keras instead.\n",
            "WARNING:tensorflow:From /usr/local/lib/python3.10/dist-packages/tensorflow/python/training/monitored_session.py:910: start_queue_runners (from tensorflow.python.training.queue_runner_impl) is deprecated and will be removed in a future version.\n",
            "Instructions for updating:\n",
            "To construct input pipelines, use the `tf.data` module.\n",
            "WARNING:tensorflow:From /usr/local/lib/python3.10/dist-packages/tensorflow/python/training/monitored_session.py:1455: SessionRunArgs.__new__ (from tensorflow.python.training.session_run_hook) is deprecated and will be removed in a future version.\n",
            "Instructions for updating:\n",
            "Use tf.keras instead.\n",
            "WARNING:tensorflow:From /usr/local/lib/python3.10/dist-packages/tensorflow/python/training/monitored_session.py:1454: SessionRunContext.__init__ (from tensorflow.python.training.session_run_hook) is deprecated and will be removed in a future version.\n",
            "Instructions for updating:\n",
            "Use tf.keras instead.\n",
            "WARNING:tensorflow:From /usr/local/lib/python3.10/dist-packages/tensorflow/python/training/monitored_session.py:1474: SessionRunValues.__new__ (from tensorflow.python.training.session_run_hook) is deprecated and will be removed in a future version.\n",
            "Instructions for updating:\n",
            "Use tf.keras instead.\n",
            "WARNING:tensorflow:From /usr/local/lib/python3.10/dist-packages/tensorflow_estimator/python/estimator/head/base_head.py:786: ClassificationOutput.__init__ (from tensorflow.python.saved_model.model_utils.export_output) is deprecated and will be removed in a future version.\n",
            "Instructions for updating:\n",
            "Use tf.keras instead.\n",
            "WARNING:tensorflow:From /usr/local/lib/python3.10/dist-packages/tensorflow_estimator/python/estimator/head/binary_class_head.py:561: RegressionOutput.__init__ (from tensorflow.python.saved_model.model_utils.export_output) is deprecated and will be removed in a future version.\n",
            "Instructions for updating:\n",
            "Use tf.keras instead.\n",
            "WARNING:tensorflow:From /usr/local/lib/python3.10/dist-packages/tensorflow_estimator/python/estimator/head/binary_class_head.py:563: PredictOutput.__init__ (from tensorflow.python.saved_model.model_utils.export_output) is deprecated and will be removed in a future version.\n",
            "Instructions for updating:\n",
            "Use tf.keras instead.\n"
          ]
        },
        {
          "output_type": "stream",
          "name": "stdout",
          "text": [
            " period 00 : 3.23\n"
          ]
        },
        {
          "output_type": "stream",
          "name": "stderr",
          "text": [
            "WARNING:tensorflow:From /usr/local/lib/python3.10/dist-packages/tensorflow/python/training/saver.py:1176: get_checkpoint_mtimes (from tensorflow.python.checkpoint.checkpoint_management) is deprecated and will be removed in a future version.\n",
            "Instructions for updating:\n",
            "Use standard file utilities to get mtimes.\n"
          ]
        },
        {
          "output_type": "stream",
          "name": "stdout",
          "text": [
            " period 01 : 2.66\n",
            " period 02 : 2.42\n",
            " period 03 : 2.36\n"
          ]
        },
        {
          "output_type": "stream",
          "name": "stderr",
          "text": [
            "WARNING:tensorflow:From /usr/local/lib/python3.10/dist-packages/tensorflow/python/training/saver.py:1067: remove_checkpoint (from tensorflow.python.checkpoint.checkpoint_management) is deprecated and will be removed in a future version.\n",
            "Instructions for updating:\n",
            "Use standard file APIs to delete files with this prefix.\n"
          ]
        },
        {
          "output_type": "stream",
          "name": "stdout",
          "text": [
            " period 04 : 2.47\n",
            " period 05 : 2.41\n",
            " period 06 : 2.48\n",
            " period 07 : 2.44\n",
            " period 08 : 1.93\n",
            " period 09 : 1.84\n",
            " period 10 : 1.47\n",
            " period 11 : 1.67\n",
            " period 12 : 1.76\n",
            " period 13 : 1.11\n",
            " period 14 : 1.30\n",
            " period 15 : 1.88\n",
            " period 16 : 1.24\n",
            " period 17 : 1.12\n",
            " period 18 : 1.39\n",
            " period 19 : 1.21\n",
            " period 20 : 1.27\n",
            " period 21 : 1.50\n",
            " period 22 : 0.99\n",
            " period 23 : 1.05\n",
            " period 24 : 1.30\n",
            " period 25 : 1.50\n",
            " period 26 : 1.81\n",
            " period 27 : 1.51\n",
            " period 28 : 1.62\n",
            " period 29 : 1.15\n",
            " period 30 : 1.06\n",
            " period 31 : 1.35\n",
            " period 32 : 1.15\n",
            " period 33 : 1.02\n",
            " period 34 : 1.03\n",
            " period 35 : 1.03\n",
            " period 36 : 1.97\n",
            " period 37 : 1.21\n",
            " period 38 : 1.08\n",
            " period 39 : 1.18\n",
            " period 40 : 1.57\n",
            " period 41 : 1.03\n",
            " period 42 : 0.90\n",
            " period 43 : 1.21\n",
            " period 44 : 1.27\n",
            " period 45 : 1.72\n",
            " period 46 : 1.57\n"
          ]
        },
        {
          "output_type": "stream",
          "name": "stderr",
          "text": [
            "WARNING:tensorflow:It seems that global step (tf.train.get_global_step) has not been increased. Current value (could be stable): 23901 vs previous value: 23901. You could increase the global step by passing tf.train.get_global_step() to Optimizer.apply_gradients or Optimizer.minimize.\n"
          ]
        },
        {
          "output_type": "stream",
          "name": "stdout",
          "text": [
            " period 47 : 1.70\n",
            " period 48 : 1.08\n",
            " period 49 : 1.45\n",
            " period 50 : 1.02\n",
            " period 51 : 1.36\n",
            " period 52 : 1.05\n",
            " period 53 : 1.38\n",
            " period 54 : 1.00\n",
            " period 55 : 1.09\n",
            " period 56 : 1.06\n",
            " period 57 : 0.84\n",
            " period 58 : 0.97\n",
            " period 59 : 0.82\n",
            " period 60 : 0.87\n",
            " period 61 : 1.09\n",
            " period 62 : 1.15\n",
            " period 63 : 1.00\n",
            " period 64 : 0.91\n",
            " period 65 : 1.20\n",
            " period 66 : 1.00\n",
            " period 67 : 0.91\n",
            " period 68 : 2.23\n",
            " period 69 : 1.17\n",
            " period 70 : 1.12\n",
            " period 71 : 1.59\n",
            " period 72 : 1.03\n",
            " period 73 : 1.00\n",
            " period 74 : 0.99\n",
            " period 75 : 1.00\n",
            " period 76 : 1.14\n",
            " period 77 : 1.27\n",
            " period 78 : 0.94\n",
            " period 79 : 0.96\n",
            " period 80 : 1.11\n",
            " period 81 : 1.00\n",
            " period 82 : 0.96\n",
            " period 83 : 1.36\n",
            " period 84 : 1.02\n",
            " period 85 : 0.88\n",
            " period 86 : 0.99\n",
            " period 87 : 1.14\n",
            " period 88 : 1.15\n",
            " period 89 : 1.05\n",
            " period 90 : 0.94\n",
            " period 91 : 1.06\n",
            " period 92 : 1.05\n",
            " period 93 : 1.66\n",
            " period 94 : 1.14\n",
            " period 95 : 1.12\n",
            " period 96 : 1.42\n",
            " period 97 : 0.99\n",
            " period 98 : 0.97\n",
            " period 99 : 1.14\n",
            " period 100 : 0.99\n",
            " period 101 : 0.93\n",
            " period 102 : 0.96\n",
            " period 103 : 1.00\n",
            " period 104 : 1.05\n",
            " period 105 : 0.93\n",
            " period 106 : 1.02\n",
            " period 107 : 1.24\n",
            " period 108 : 0.91\n",
            " period 109 : 0.87\n",
            " period 110 : 0.96\n",
            " period 111 : 0.96\n",
            " period 112 : 0.97\n",
            " period 113 : 1.20\n",
            " period 114 : 0.96\n",
            " period 115 : 1.02\n",
            " period 116 : 0.94\n",
            " period 117 : 0.87\n",
            " period 118 : 0.91\n",
            " period 119 : 0.97\n",
            " period 120 : 1.05\n",
            " period 121 : 0.97\n",
            " period 122 : 0.93\n",
            " period 123 : 1.09\n",
            " period 124 : 0.97\n",
            " period 125 : 1.17\n",
            " period 126 : 1.03\n",
            " period 127 : 0.99\n",
            " period 128 : 0.91\n",
            " period 129 : 1.05\n",
            " period 130 : 0.99\n",
            " period 131 : 1.08\n",
            " period 132 : 0.87\n",
            " period 133 : 1.53\n",
            " period 134 : 0.99\n",
            " period 135 : 1.02\n",
            " period 136 : 0.99\n",
            " period 137 : 0.96\n",
            " period 138 : 0.87\n",
            " period 139 : 1.02\n",
            " period 140 : 1.02\n",
            " period 141 : 1.03\n",
            " period 142 : 1.65\n",
            " period 143 : 0.91\n",
            " period 144 : 1.06\n",
            " period 145 : 1.12\n",
            " period 146 : 1.03\n",
            " period 147 : 0.96\n",
            " period 148 : 1.41\n",
            " period 149 : 1.06\n",
            " period 150 : 0.97\n",
            " period 151 : 1.15\n",
            " period 152 : 1.00\n",
            " period 153 : 1.03\n",
            " period 154 : 1.02\n",
            " period 155 : 1.06\n",
            " period 156 : 1.09\n",
            " period 157 : 1.03\n",
            " period 158 : 0.94\n",
            " period 159 : 0.99\n",
            " period 160 : 1.03\n",
            " period 161 : 1.08\n",
            " period 162 : 1.24\n",
            " period 163 : 1.00\n",
            " period 164 : 1.38\n",
            " period 165 : 0.94\n",
            " period 166 : 0.90\n",
            " period 167 : 1.11\n",
            " period 168 : 0.93\n",
            " period 169 : 1.32\n",
            " period 170 : 0.90\n",
            " period 171 : 1.14\n",
            " period 172 : 1.00\n",
            " period 173 : 1.00\n",
            " period 174 : 1.17\n",
            " period 175 : 0.93\n",
            " period 176 : 1.44\n",
            " period 177 : 0.99\n",
            " period 178 : 0.97\n",
            " period 179 : 1.15\n",
            " period 180 : 1.02\n",
            " period 181 : 0.97\n",
            " period 182 : 1.14\n",
            " period 183 : 0.91\n",
            " period 184 : 1.02\n",
            " period 185 : 0.99\n",
            " period 186 : 0.93\n",
            " period 187 : 1.05\n",
            " period 188 : 0.94\n",
            " period 189 : 1.00\n",
            " period 190 : 0.87\n",
            " period 191 : 0.90\n",
            " period 192 : 1.03\n",
            " period 193 : 1.14\n",
            " period 194 : 1.12\n",
            " period 195 : 0.96\n",
            " period 196 : 1.20\n",
            " period 197 : 0.91\n",
            " period 198 : 1.00\n",
            " period 199 : 0.93\n"
          ]
        }
      ],
      "source": [
        "print(\"Training model...\")\n",
        "print(\"LogLoss error (on validation data):\")\n",
        "validation_errors = []\n",
        "for period in range (0, 200):\n",
        "# Train the model, starting from the prior state.\n",
        "    model.train(\n",
        "    input_fn=input_func,\n",
        "    steps=500\n",
        "    )\n",
        "    pred_fn = tf.compat.v1.estimator.inputs.pandas_input_fn(x=X_test,batch_size=len(X_test),shuffle=False)\n",
        "    y_fn = tf.compat.v1.estimator.inputs.pandas_input_fn(x=y_test,batch_size=len(y_test),shuffle=False)\n",
        "    \n",
        "    validation_predictions = list(model.predict(input_fn=pred_fn))\n",
        "    validation_probabilities = np.array([item['probabilities'] for item in validation_predictions])\n",
        "    validation_pred_class_id = np.array([item['class_ids'][0] for item in validation_predictions])\n",
        "    validation_pred_one_hot = tf.keras.utils.to_categorical(validation_pred_class_id,0)\n",
        "    validation_log_loss = metrics.log_loss(y_test_n, validation_pred_one_hot)\n",
        "    print(\" period %02d : %0.2f\" % (period, validation_log_loss))\n",
        "    validation_errors.append(validation_log_loss)\n",
        "    "
      ]
    },
    {
      "cell_type": "code",
      "execution_count": 17,
      "id": "f1241d8f",
      "metadata": {
        "id": "f1241d8f"
      },
      "outputs": [],
      "source": [
        "final_predictions = model.predict(input_fn=pred_fn)\n",
        "final_predictions = np.array([item['class_ids'][0] for item in final_predictions])\n",
        " "
      ]
    },
    {
      "cell_type": "code",
      "execution_count": 18,
      "id": "9405f275",
      "metadata": {
        "id": "9405f275",
        "colab": {
          "base_uri": "https://localhost:8080/",
          "height": 912
        },
        "outputId": "8ea373d5-7b83-4f40-834f-c1780719108c"
      },
      "outputs": [
        {
          "output_type": "stream",
          "name": "stdout",
          "text": [
            "Final accuracy (on validation data): 0.94\n"
          ]
        },
        {
          "output_type": "display_data",
          "data": {
            "text/plain": [
              "<Figure size 1200x1000 with 1 Axes>"
            ],
            "image/png": "[encoded data removed]"
          },
          "metadata": {}
        }
      ],
      "source": [
        "accuracy = metrics.accuracy_score(y_test_n, final_predictions)\n",
        "print(\"Final accuracy (on validation data): %0.2f\" % accuracy)\n",
        "plt.rcParams[\"figure.figsize\"] = (12,10)\n",
        "# Output a graph of loss metrics over periods.\n",
        "plt.ylabel(\"LogLoss\", fontsize = 20)\n",
        "plt.xlabel(\"Periods\", fontsize = 20)\n",
        "plt.title(\"LogLoss vs. Periods (validation)\", fontsize = 20)\n",
        "plt.plot(validation_errors, 'k', linewidth = 2)\n",
        "#plt.legend()\n",
        "plt.show()"
      ]
    },
    {
      "cell_type": "code",
      "execution_count": 19,
      "id": "e1c8c07b",
      "metadata": {
        "id": "e1c8c07b",
        "colab": {
          "base_uri": "https://localhost:8080/",
          "height": 868
        },
        "outputId": "c93476d2-cf38-4c35-99d3-f77c18a4878c"
      },
      "outputs": [
        {
          "output_type": "display_data",
          "data": {
            "text/plain": [
              "<Figure size 1200x1000 with 2 Axes>"
            ],
            "image/png": "[encoded data removed]"
          },
          "metadata": {}
        }
      ],
      "source": [
        "import seaborn as sns\n",
        "plt.rcParams[\"figure.figsize\"] = (12,10)\n",
        "\n",
        "cm = metrics.confusion_matrix(y_test_n, final_predictions)\n",
        "# Normalize the confusion matrix by row (i.e by the number of samples\n",
        "# in each class).\n",
        "cm_normalized = cm.astype(\"float\") / cm.sum(axis=1)[:, np.newaxis]\n",
        "\n",
        "ax = sns.heatmap(cm_normalized, cmap=\"bone_r\")\n",
        "ax.set_aspect(1)\n",
        "plt.title(\"Confusion matrix\", fontsize = 20)\n",
        "plt.ylabel(\"True label\", fontsize = 20)\n",
        "plt.xlabel(\"Predicted label\", fontsize = 20)\n",
        "plt.show()"
      ]
    },
    {
      "cell_type": "code",
      "execution_count": 20,
      "id": "0bd90ca1",
      "metadata": {
        "id": "0bd90ca1",
        "colab": {
          "base_uri": "https://localhost:8080/"
        },
        "outputId": "2e956518-af11-4fab-e5b1-0dc831ab9d01"
      },
      "outputs": [
        {
          "output_type": "stream",
          "name": "stdout",
          "text": [
            "Classification report for classifier <tensorflow_estimator.python.estimator.canned.dnn.DNNClassifierV2 object at 0x7f9367ceef20>:\n",
            "              precision    recall  f1-score   support\n",
            "\n",
            "           0       0.97      0.91      0.94       494\n",
            "           1       0.92      0.97      0.95       572\n",
            "\n",
            "    accuracy                           0.94      1066\n",
            "   macro avg       0.94      0.94      0.94      1066\n",
            "weighted avg       0.94      0.94      0.94      1066\n",
            "\n",
            "\n"
          ]
        }
      ],
      "source": [
        "print(\"Classification report for classifier %s:\\n%s\\n\"\n",
        "      % (model, metrics.classification_report(y_test_n, final_predictions, labels=[0, 1])))"
      ]
    },
    {
      "cell_type": "code",
      "source": [
        "accuracy = accuracy_score(y_test_n, final_predictions)\n",
        "DNN = accuracy\n",
        "print('Accuracy: {:.2f}%'.format(DNN * 100))"
      ],
      "metadata": {
        "colab": {
          "base_uri": "https://localhost:8080/"
        },
        "id": "5-eRzJlCCKPm",
        "outputId": "0a27bd37-d7df-4dc1-d1c2-62dfa14a0677"
      },
      "id": "5-eRzJlCCKPm",
      "execution_count": 21,
      "outputs": [
        {
          "output_type": "stream",
          "name": "stdout",
          "text": [
            "Accuracy: 94.18%\n"
          ]
        }
      ]
    },
    {
      "cell_type": "markdown",
      "source": [
        "# SVM"
      ],
      "metadata": {
        "id": "vuie_PJTGooa"
      },
      "id": "vuie_PJTGooa"
    },
    {
      "cell_type": "markdown",
      "source": [
        "## SVM with bagging"
      ],
      "metadata": {
        "id": "PR2qDtEfqDdL"
      },
      "id": "PR2qDtEfqDdL"
    },
    {
      "cell_type": "code",
      "source": [
        "from sklearn.svm import SVC\n",
        "from sklearn.ensemble import BaggingClassifier\n",
        "\n",
        "svm = SVC(kernel='rbf', gamma='scale')\n",
        "bagging_svm = BaggingClassifier(base_estimator=svm, n_estimators=10, random_state=42)\n",
        "bagging_svm.fit(X_train, y_train)"
      ],
      "metadata": {
        "colab": {
          "base_uri": "https://localhost:8080/",
          "height": 175
        },
        "id": "wRNWGB1Y8moS",
        "outputId": "32a09cff-47af-41c0-8571-4c6a8d2a6350"
      },
      "id": "wRNWGB1Y8moS",
      "execution_count": 22,
      "outputs": [
        {
          "output_type": "stream",
          "name": "stderr",
          "text": [
            "/usr/local/lib/python3.10/dist-packages/sklearn/ensemble/_base.py:166: FutureWarning: `base_estimator` was renamed to `estimator` in version 1.2 and will be removed in 1.4.\n",
            "  warnings.warn(\n"
          ]
        },
        {
          "output_type": "execute_result",
          "data": {
            "text/plain": [
              "BaggingClassifier(base_estimator=SVC(), random_state=42)"
            ],
            "text/html": [
              "<style>#sk-container-id-1 {color: black;background-color: white;}#sk-container-id-1 pre{padding: 0;}#sk-container-id-1 div.sk-toggleable {background-color: white;}#sk-container-id-1 label.sk-toggleable__label {cursor: pointer;display: block;width: 100%;margin-bottom: 0;padding: 0.3em;box-sizing: border-box;text-align: center;}#sk-container-id-1 label.sk-toggleable__label-arrow:before {content: \"▸\";float: left;margin-right: 0.25em;color: #696969;}#sk-container-id-1 label.sk-toggleable__label-arrow:hover:before {color: black;}#sk-container-id-1 div.sk-estimator:hover label.sk-toggleable__label-arrow:before {color: black;}#sk-container-id-1 div.sk-toggleable__content {max-height: 0;max-width: 0;overflow: hidden;text-align: left;background-color: #f0f8ff;}#sk-container-id-1 div.sk-toggleable__content pre {margin: 0.2em;color: black;border-radius: 0.25em;background-color: #f0f8ff;}#sk-container-id-1 input.sk-toggleable__control:checked~div.sk-toggleable__content {max-height: 200px;max-width: 100%;overflow: auto;}#sk-container-id-1 input.sk-toggleable__control:checked~label.sk-toggleable__label-arrow:before {content: \"▾\";}#sk-container-id-1 div.sk-estimator input.sk-toggleable__control:checked~label.sk-toggleable__label {background-color: #d4ebff;}#sk-container-id-1 div.sk-label input.sk-toggleable__control:checked~label.sk-toggleable__label {background-color: #d4ebff;}#sk-container-id-1 input.sk-hidden--visually {border: 0;clip: rect(1px 1px 1px 1px);clip: rect(1px, 1px, 1px, 1px);height: 1px;margin: -1px;overflow: hidden;padding: 0;position: absolute;width: 1px;}#sk-container-id-1 div.sk-estimator {font-family: monospace;background-color: #f0f8ff;border: 1px dotted black;border-radius: 0.25em;box-sizing: border-box;margin-bottom: 0.5em;}#sk-container-id-1 div.sk-estimator:hover {background-color: #d4ebff;}#sk-container-id-1 div.sk-parallel-item::after {content: \"\";width: 100%;border-bottom: 1px solid gray;flex-grow: 1;}#sk-container-id-1 div.sk-label:hover label.sk-toggleable__label {background-color: #d4ebff;}#sk-container-id-1 div.sk-serial::before {content: \"\";position: absolute;border-left: 1px solid gray;box-sizing: border-box;top: 0;bottom: 0;left: 50%;z-index: 0;}#sk-container-id-1 div.sk-serial {display: flex;flex-direction: column;align-items: center;background-color: white;padding-right: 0.2em;padding-left: 0.2em;position: relative;}#sk-container-id-1 div.sk-item {position: relative;z-index: 1;}#sk-container-id-1 div.sk-parallel {display: flex;align-items: stretch;justify-content: center;background-color: white;position: relative;}#sk-container-id-1 div.sk-item::before, #sk-container-id-1 div.sk-parallel-item::before {content: \"\";position: absolute;border-left: 1px solid gray;box-sizing: border-box;top: 0;bottom: 0;left: 50%;z-index: -1;}#sk-container-id-1 div.sk-parallel-item {display: flex;flex-direction: column;z-index: 1;position: relative;background-color: white;}#sk-container-id-1 div.sk-parallel-item:first-child::after {align-self: flex-end;width: 50%;}#sk-container-id-1 div.sk-parallel-item:last-child::after {align-self: flex-start;width: 50%;}#sk-container-id-1 div.sk-parallel-item:only-child::after {width: 0;}#sk-container-id-1 div.sk-dashed-wrapped {border: 1px dashed gray;margin: 0 0.4em 0.5em 0.4em;box-sizing: border-box;padding-bottom: 0.4em;background-color: white;}#sk-container-id-1 div.sk-label label {font-family: monospace;font-weight: bold;display: inline-block;line-height: 1.2em;}#sk-container-id-1 div.sk-label-container {text-align: center;}#sk-container-id-1 div.sk-container {/* jupyter's `normalize.less` sets `[hidden] { display: none; }` but bootstrap.min.css set `[hidden] { display: none !important; }` so we also need the `!important` here to be able to override the default hidden behavior on the sphinx rendered scikit-learn.org. See: https://github.com/scikit-learn/scikit-learn/issues/21755 */display: inline-block !important;position: relative;}#sk-container-id-1 div.sk-text-repr-fallback {display: none;}</style><div id=\"sk-container-id-1\" class=\"sk-top-container\"><div class=\"sk-text-repr-fallback\"><pre>BaggingClassifier(base_estimator=SVC(), random_state=42)</pre><b>In a Jupyter environment, please rerun this cell to show the HTML representation or trust the notebook. <br />On GitHub, the HTML representation is unable to render, please try loading this page with nbviewer.org.</b></div><div class=\"sk-container\" hidden><div class=\"sk-item sk-dashed-wrapped\"><div class=\"sk-label-container\"><div class=\"sk-label sk-toggleable\"><input class=\"sk-toggleable__control sk-hidden--visually\" id=\"sk-estimator-id-1\" type=\"checkbox\" ><label for=\"sk-estimator-id-1\" class=\"sk-toggleable__label sk-toggleable__label-arrow\">BaggingClassifier</label><div class=\"sk-toggleable__content\"><pre>BaggingClassifier(base_estimator=SVC(), random_state=42)</pre></div></div></div><div class=\"sk-parallel\"><div class=\"sk-parallel-item\"><div class=\"sk-item\"><div class=\"sk-label-container\"><div class=\"sk-label sk-toggleable\"><input class=\"sk-toggleable__control sk-hidden--visually\" id=\"sk-estimator-id-2\" type=\"checkbox\" ><label for=\"sk-estimator-id-2\" class=\"sk-toggleable__label sk-toggleable__label-arrow\">base_estimator: SVC</label><div class=\"sk-toggleable__content\"><pre>SVC()</pre></div></div></div><div class=\"sk-serial\"><div class=\"sk-item\"><div class=\"sk-estimator sk-toggleable\"><input class=\"sk-toggleable__control sk-hidden--visually\" id=\"sk-estimator-id-3\" type=\"checkbox\" ><label for=\"sk-estimator-id-3\" class=\"sk-toggleable__label sk-toggleable__label-arrow\">SVC</label><div class=\"sk-toggleable__content\"><pre>SVC()</pre></div></div></div></div></div></div></div></div></div></div>"
            ]
          },
          "metadata": {},
          "execution_count": 22
        }
      ]
    },
    {
      "cell_type": "code",
      "source": [
        "y_pred = bagging_svm.predict(X_test)\n",
        "\n",
        "from sklearn.metrics import classification_report, confusion_matrix\n",
        "confusion = print(confusion_matrix(y_test_n, y_pred))\n",
        "confusion"
      ],
      "metadata": {
        "colab": {
          "base_uri": "https://localhost:8080/"
        },
        "id": "kwrzApPP80wK",
        "outputId": "9499b6ab-4d9a-4b6c-8789-1bd023bd27cc"
      },
      "id": "kwrzApPP80wK",
      "execution_count": 23,
      "outputs": [
        {
          "output_type": "stream",
          "name": "stdout",
          "text": [
            "[[412  82]\n",
            " [ 90 482]]\n"
          ]
        }
      ]
    },
    {
      "cell_type": "code",
      "source": [
        "print(classification_report(y_test_n, y_pred))"
      ],
      "metadata": {
        "colab": {
          "base_uri": "https://localhost:8080/"
        },
        "id": "idIq_QSloiBb",
        "outputId": "9b5db748-3245-431e-db17-5d310f468f8b"
      },
      "id": "idIq_QSloiBb",
      "execution_count": 26,
      "outputs": [
        {
          "output_type": "stream",
          "name": "stdout",
          "text": [
            "              precision    recall  f1-score   support\n",
            "\n",
            "           0       0.82      0.83      0.83       494\n",
            "           1       0.85      0.84      0.85       572\n",
            "\n",
            "    accuracy                           0.84      1066\n",
            "   macro avg       0.84      0.84      0.84      1066\n",
            "weighted avg       0.84      0.84      0.84      1066\n",
            "\n"
          ]
        }
      ]
    },
    {
      "cell_type": "code",
      "source": [
        "accuracy = accuracy_score(y_test_n, y_pred)\n",
        "SVM_with_Bagging = accuracy\n",
        "print('Accuracy: {:.2f}%'.format(SVM_with_Bagging * 100))"
      ],
      "metadata": {
        "colab": {
          "base_uri": "https://localhost:8080/"
        },
        "id": "dP2IUocGEuRT",
        "outputId": "a8bae36d-e777-462c-e4ac-b6dae428e758"
      },
      "id": "dP2IUocGEuRT",
      "execution_count": 27,
      "outputs": [
        {
          "output_type": "stream",
          "name": "stdout",
          "text": [
            "Accuracy: 83.86%\n"
          ]
        }
      ]
    },
    {
      "cell_type": "markdown",
      "source": [
        "## SVM with GridSearchCV"
      ],
      "metadata": {
        "id": "I-9GK9Pxpug0"
      },
      "id": "I-9GK9Pxpug0"
    },
    {
      "cell_type": "code",
      "source": [
        "from sklearn.model_selection import GridSearchCV\n",
        "from sklearn.feature_selection import SelectKBest, f_classif\n",
        "\n",
        "selector = SelectKBest(score_func=f_classif, k=6)\n",
        "X_train_selected = selector.fit_transform(X_train, y_train)\n",
        "X_test_selected = selector.transform(X_test)\n",
        "\n",
        "params = {\n",
        "    'kernel': ['linear', 'rbf'],\n",
        "    'C': [0.1, 1, 10],\n",
        "    'gamma': ['scale', 'auto']\n",
        "}\n",
        "\n",
        "grid = GridSearchCV(SVC(), params, cv=5)\n",
        "grid.fit(X_train_selected, y_train)\n",
        "\n",
        "sv_classifier = grid.best_estimator_"
      ],
      "metadata": {
        "id": "9t8QQU6-jsYa"
      },
      "id": "9t8QQU6-jsYa",
      "execution_count": 28,
      "outputs": []
    },
    {
      "cell_type": "code",
      "source": [
        "svm_two = sv_classifier.fit(X_train, y_train)"
      ],
      "metadata": {
        "id": "avnsReQtnAI6"
      },
      "id": "avnsReQtnAI6",
      "execution_count": 29,
      "outputs": []
    },
    {
      "cell_type": "code",
      "source": [
        "y_pred_svm_two = svm_two.predict(X_test)\n",
        "confusion = confusion_matrix(y_test_n, y_pred_svm_two)\n",
        "print(confusion)"
      ],
      "metadata": {
        "colab": {
          "base_uri": "https://localhost:8080/"
        },
        "id": "pjn4rjSSnId3",
        "outputId": "ba7e1d29-4925-447e-ddcc-197f53982f1d"
      },
      "id": "pjn4rjSSnId3",
      "execution_count": 30,
      "outputs": [
        {
          "output_type": "stream",
          "name": "stdout",
          "text": [
            "[[455  39]\n",
            " [ 38 534]]\n"
          ]
        }
      ]
    },
    {
      "cell_type": "code",
      "source": [
        "import seaborn as sns\n",
        "sns.heatmap(confusion, annot=True, cmap = 'Greens')"
      ],
      "metadata": {
        "colab": {
          "base_uri": "https://localhost:8080/",
          "height": 848
        },
        "id": "OwHrGMTMqKDt",
        "outputId": "82b8cc14-7c1b-44cc-a01d-5ccd1b81a65e"
      },
      "id": "OwHrGMTMqKDt",
      "execution_count": 31,
      "outputs": [
        {
          "output_type": "execute_result",
          "data": {
            "text/plain": [
              "<Axes: >"
            ]
          },
          "metadata": {},
          "execution_count": 31
        },
        {
          "output_type": "display_data",
          "data": {
            "text/plain": [
              "<Figure size 1200x1000 with 2 Axes>"
            ],
            "image/png": "[encoded data removed]"
          },
          "metadata": {}
        }
      ]
    },
    {
      "cell_type": "code",
      "source": [
        "print(classification_report(y_test_n, y_pred_svm_two))"
      ],
      "metadata": {
        "colab": {
          "base_uri": "https://localhost:8080/"
        },
        "id": "4pF6s-N2onTy",
        "outputId": "83ad8ccf-c184-4f3a-feb9-66d7d04285eb"
      },
      "id": "4pF6s-N2onTy",
      "execution_count": 32,
      "outputs": [
        {
          "output_type": "stream",
          "name": "stdout",
          "text": [
            "              precision    recall  f1-score   support\n",
            "\n",
            "           0       0.92      0.92      0.92       494\n",
            "           1       0.93      0.93      0.93       572\n",
            "\n",
            "    accuracy                           0.93      1066\n",
            "   macro avg       0.93      0.93      0.93      1066\n",
            "weighted avg       0.93      0.93      0.93      1066\n",
            "\n"
          ]
        }
      ]
    },
    {
      "cell_type": "code",
      "source": [
        "accuracy = accuracy_score(y_test_n, y_pred_svm_two)\n",
        "SVM_with_GridSearch = accuracy\n",
        "print('Accuracy: {:.2f}%'.format(SVM_with_GridSearch * 100))"
      ],
      "metadata": {
        "colab": {
          "base_uri": "https://localhost:8080/"
        },
        "id": "zirloPJ3IazE",
        "outputId": "1ac9da5d-16fd-4c53-eb04-5941a5cd960b"
      },
      "id": "zirloPJ3IazE",
      "execution_count": 33,
      "outputs": [
        {
          "output_type": "stream",
          "name": "stdout",
          "text": [
            "Accuracy: 92.78%\n"
          ]
        }
      ]
    },
    {
      "cell_type": "markdown",
      "source": [
        "# XG Boost"
      ],
      "metadata": {
        "id": "TqiPJYqoKIb_"
      },
      "id": "TqiPJYqoKIb_"
    },
    {
      "cell_type": "code",
      "source": [
        "import xgboost as xgb\n",
        "\n",
        "xg = xgb.XGBClassifier()\n",
        "xg.fit(X_train, y_train)\n",
        "\n",
        "xgb.plot_importance(xg)\n",
        "plt.show()\n",
        "\n",
        "y_pred = xg.predict(X_test)\n",
        "\n",
        "report = classification_report(y_test, y_pred)\n",
        "\n",
        "print(report)"
      ],
      "metadata": {
        "colab": {
          "base_uri": "https://localhost:8080/",
          "height": 1000
        },
        "id": "6yE2O4xnIzRF",
        "outputId": "18533078-2260-4d0a-f1e8-fdc448248e28"
      },
      "id": "6yE2O4xnIzRF",
      "execution_count": 34,
      "outputs": [
        {
          "output_type": "display_data",
          "data": {
            "text/plain": [
              "<Figure size 1200x1000 with 1 Axes>"
            ],
            "image/png": "[encoded data removed]"
          },
          "metadata": {}
        },
        {
          "output_type": "stream",
          "name": "stdout",
          "text": [
            "              precision    recall  f1-score   support\n",
            "\n",
            "           0       0.96      0.96      0.96       494\n",
            "           1       0.96      0.97      0.97       572\n",
            "\n",
            "    accuracy                           0.96      1066\n",
            "   macro avg       0.96      0.96      0.96      1066\n",
            "weighted avg       0.96      0.96      0.96      1066\n",
            "\n"
          ]
        }
      ]
    },
    {
      "cell_type": "code",
      "source": [
        "accuracy = accuracy_score(y_test, y_pred)\n",
        "XGBoost = accuracy\n",
        "print('Accuracy: {:.2f}%'.format(XGBoost * 100))"
      ],
      "metadata": {
        "colab": {
          "base_uri": "https://localhost:8080/"
        },
        "id": "26CSHptIIysh",
        "outputId": "bb113570-b637-434d-afc6-c501dca304dd"
      },
      "id": "26CSHptIIysh",
      "execution_count": 36,
      "outputs": [
        {
          "output_type": "stream",
          "name": "stdout",
          "text": [
            "Accuracy: 96.25%\n"
          ]
        }
      ]
    },
    {
      "cell_type": "markdown",
      "source": [
        "# Decision Tree"
      ],
      "metadata": {
        "id": "awgUNYj9dt3h"
      },
      "id": "awgUNYj9dt3h"
    },
    {
      "cell_type": "code",
      "source": [
        "from sklearn import tree\n",
        "from sklearn.tree import DecisionTreeClassifier"
      ],
      "metadata": {
        "id": "0I46ScGcKy14"
      },
      "id": "0I46ScGcKy14",
      "execution_count": 37,
      "outputs": []
    },
    {
      "cell_type": "code",
      "source": [
        "decision = DecisionTreeClassifier(max_depth=3)\n",
        "\n",
        "decision.fit(X_train, y_train)\n",
        "\n",
        "y_pred = decision.predict(X_test)\n",
        "\n",
        "classification_rep = classification_report(y_test, y_pred)\n",
        "print(classification_rep)"
      ],
      "metadata": {
        "colab": {
          "base_uri": "https://localhost:8080/"
        },
        "id": "2RPCDiaTdkNr",
        "outputId": "8957f5a0-975a-4492-f6c4-d4a5c45e3fc0"
      },
      "id": "2RPCDiaTdkNr",
      "execution_count": 38,
      "outputs": [
        {
          "output_type": "stream",
          "name": "stdout",
          "text": [
            "              precision    recall  f1-score   support\n",
            "\n",
            "           0       0.93      0.97      0.95       494\n",
            "           1       0.98      0.94      0.96       572\n",
            "\n",
            "    accuracy                           0.96      1066\n",
            "   macro avg       0.96      0.96      0.96      1066\n",
            "weighted avg       0.96      0.96      0.96      1066\n",
            "\n"
          ]
        }
      ]
    },
    {
      "cell_type": "code",
      "source": [
        "accuracy = accuracy_score(y_test, y_pred)\n",
        "Decision_Tree = accuracy\n",
        "print('Accuracy: {:.2f}%'.format(Decision_Tree * 100))"
      ],
      "metadata": {
        "colab": {
          "base_uri": "https://localhost:8080/"
        },
        "id": "IPYFgHwPJEra",
        "outputId": "6feb1918-1809-4f20-e752-31ba5fee7fef"
      },
      "id": "IPYFgHwPJEra",
      "execution_count": 39,
      "outputs": [
        {
          "output_type": "stream",
          "name": "stdout",
          "text": [
            "Accuracy: 95.59%\n"
          ]
        }
      ]
    },
    {
      "cell_type": "markdown",
      "source": [
        "# Catboost"
      ],
      "metadata": {
        "id": "H2TtJH8vswN1"
      },
      "id": "H2TtJH8vswN1"
    },
    {
      "cell_type": "code",
      "source": [
        "pip install catboost"
      ],
      "metadata": {
        "colab": {
          "base_uri": "https://localhost:8080/"
        },
        "id": "Te3q15TLtUOc",
        "outputId": "e718093f-1509-4cef-f2f6-eb8e163ef82e"
      },
      "id": "Te3q15TLtUOc",
      "execution_count": 40,
      "outputs": [
        {
          "output_type": "stream",
          "name": "stdout",
          "text": [
            "Looking in indexes: https://pypi.org/simple, https://us-python.pkg.dev/colab-wheels/public/simple/\n",
            "Requirement already satisfied: catboost in /usr/local/lib/python3.10/dist-packages (1.2)\n",
            "Requirement already satisfied: graphviz in /usr/local/lib/python3.10/dist-packages (from catboost) (0.20.1)\n",
            "Requirement already satisfied: matplotlib in /usr/local/lib/python3.10/dist-packages (from catboost) (3.7.1)\n",
            "Requirement already satisfied: numpy>=1.16.0 in /usr/local/lib/python3.10/dist-packages (from catboost) (1.22.4)\n",
            "Requirement already satisfied: pandas>=0.24 in /usr/local/lib/python3.10/dist-packages (from catboost) (1.5.3)\n",
            "Requirement already satisfied: scipy in /usr/local/lib/python3.10/dist-packages (from catboost) (1.10.1)\n",
            "Requirement already satisfied: plotly in /usr/local/lib/python3.10/dist-packages (from catboost) (5.13.1)\n",
            "Requirement already satisfied: six in /usr/local/lib/python3.10/dist-packages (from catboost) (1.16.0)\n",
            "Requirement already satisfied: python-dateutil>=2.8.1 in /usr/local/lib/python3.10/dist-packages (from pandas>=0.24->catboost) (2.8.2)\n",
            "Requirement already satisfied: pytz>=2020.1 in /usr/local/lib/python3.10/dist-packages (from pandas>=0.24->catboost) (2022.7.1)\n",
            "Requirement already satisfied: contourpy>=1.0.1 in /usr/local/lib/python3.10/dist-packages (from matplotlib->catboost) (1.0.7)\n",
            "Requirement already satisfied: cycler>=0.10 in /usr/local/lib/python3.10/dist-packages (from matplotlib->catboost) (0.11.0)\n",
            "Requirement already satisfied: fonttools>=4.22.0 in /usr/local/lib/python3.10/dist-packages (from matplotlib->catboost) (4.39.3)\n",
            "Requirement already satisfied: kiwisolver>=1.0.1 in /usr/local/lib/python3.10/dist-packages (from matplotlib->catboost) (1.4.4)\n",
            "Requirement already satisfied: packaging>=20.0 in /usr/local/lib/python3.10/dist-packages (from matplotlib->catboost) (23.1)\n",
            "Requirement already satisfied: pillow>=6.2.0 in /usr/local/lib/python3.10/dist-packages (from matplotlib->catboost) (8.4.0)\n",
            "Requirement already satisfied: pyparsing>=2.3.1 in /usr/local/lib/python3.10/dist-packages (from matplotlib->catboost) (3.0.9)\n",
            "Requirement already satisfied: tenacity>=6.2.0 in /usr/local/lib/python3.10/dist-packages (from plotly->catboost) (8.2.2)\n"
          ]
        }
      ]
    },
    {
      "cell_type": "code",
      "source": [
        "import catboost\n",
        "from catboost import CatBoostClassifier\n",
        "\n",
        "catboost_classifier = CatBoostClassifier()\n",
        "\n",
        "catboost_classifier.fit(X_train, y_train)\n",
        "\n",
        "y_pred_cat = catboost_classifier.predict(X_test)\n",
        "cat_heat = confusion_matrix(y_test, y_pred_cat)\n",
        "sns.heatmap(cat_heat, annot = True, cmap = 'Greens')"
      ],
      "metadata": {
        "colab": {
          "base_uri": "https://localhost:8080/",
          "height": 1000
        },
        "id": "3HHHGZUyszSt",
        "outputId": "f2aedd6c-bd5c-475b-f246-a8a13237dade"
      },
      "id": "3HHHGZUyszSt",
      "execution_count": 41,
      "outputs": [
        {
          "output_type": "stream",
          "name": "stdout",
          "text": [
            "Learning rate set to 0.015199\n",
            "0:\tlearn: 0.6636516\ttotal: 51.1ms\tremaining: 51s\n",
            "1:\tlearn: 0.6370380\ttotal: 53.8ms\tremaining: 26.9s\n",
            "2:\tlearn: 0.6160317\ttotal: 56.5ms\tremaining: 18.8s\n",
            "3:\tlearn: 0.5948349\ttotal: 59ms\tremaining: 14.7s\n",
            "4:\tlearn: 0.5723419\ttotal: 61.5ms\tremaining: 12.2s\n",
            "5:\tlearn: 0.5552507\ttotal: 64ms\tremaining: 10.6s\n",
            "6:\tlearn: 0.5352486\ttotal: 66.7ms\tremaining: 9.46s\n",
            "7:\tlearn: 0.5140205\ttotal: 69.1ms\tremaining: 8.57s\n",
            "8:\tlearn: 0.4982071\ttotal: 71.7ms\tremaining: 7.9s\n",
            "9:\tlearn: 0.4807157\ttotal: 74.5ms\tremaining: 7.38s\n",
            "10:\tlearn: 0.4629502\ttotal: 77.3ms\tremaining: 6.95s\n",
            "11:\tlearn: 0.4489521\ttotal: 80ms\tremaining: 6.59s\n",
            "12:\tlearn: 0.4367171\ttotal: 82.6ms\tremaining: 6.27s\n",
            "13:\tlearn: 0.4256574\ttotal: 85.2ms\tremaining: 6s\n",
            "14:\tlearn: 0.4122987\ttotal: 87.9ms\tremaining: 5.77s\n",
            "15:\tlearn: 0.4016026\ttotal: 90.5ms\tremaining: 5.57s\n",
            "16:\tlearn: 0.3880280\ttotal: 93.1ms\tremaining: 5.38s\n",
            "17:\tlearn: 0.3775876\ttotal: 95.7ms\tremaining: 5.22s\n",
            "18:\tlearn: 0.3653659\ttotal: 98.3ms\tremaining: 5.08s\n",
            "19:\tlearn: 0.3572825\ttotal: 101ms\tremaining: 4.95s\n",
            "20:\tlearn: 0.3483513\ttotal: 104ms\tremaining: 4.83s\n",
            "21:\tlearn: 0.3365429\ttotal: 106ms\tremaining: 4.73s\n",
            "22:\tlearn: 0.3282835\ttotal: 109ms\tremaining: 4.63s\n",
            "23:\tlearn: 0.3211686\ttotal: 112ms\tremaining: 4.55s\n",
            "24:\tlearn: 0.3127508\ttotal: 115ms\tremaining: 4.47s\n",
            "25:\tlearn: 0.3049060\ttotal: 117ms\tremaining: 4.4s\n",
            "26:\tlearn: 0.2989066\ttotal: 120ms\tremaining: 4.33s\n",
            "27:\tlearn: 0.2914319\ttotal: 123ms\tremaining: 4.26s\n",
            "28:\tlearn: 0.2836626\ttotal: 126ms\tremaining: 4.2s\n",
            "29:\tlearn: 0.2767069\ttotal: 128ms\tremaining: 4.14s\n",
            "30:\tlearn: 0.2715580\ttotal: 131ms\tremaining: 4.09s\n",
            "31:\tlearn: 0.2650945\ttotal: 133ms\tremaining: 4.04s\n",
            "32:\tlearn: 0.2604194\ttotal: 136ms\tremaining: 3.99s\n",
            "33:\tlearn: 0.2554491\ttotal: 139ms\tremaining: 3.94s\n",
            "34:\tlearn: 0.2505777\ttotal: 141ms\tremaining: 3.9s\n",
            "35:\tlearn: 0.2453738\ttotal: 144ms\tremaining: 3.85s\n",
            "36:\tlearn: 0.2415708\ttotal: 147ms\tremaining: 3.81s\n",
            "37:\tlearn: 0.2367530\ttotal: 149ms\tremaining: 3.78s\n",
            "38:\tlearn: 0.2318464\ttotal: 152ms\tremaining: 3.75s\n",
            "39:\tlearn: 0.2281545\ttotal: 155ms\tremaining: 3.71s\n",
            "40:\tlearn: 0.2248882\ttotal: 160ms\tremaining: 3.75s\n",
            "41:\tlearn: 0.2215683\ttotal: 164ms\tremaining: 3.75s\n",
            "42:\tlearn: 0.2178042\ttotal: 169ms\tremaining: 3.76s\n",
            "43:\tlearn: 0.2138006\ttotal: 181ms\tremaining: 3.92s\n",
            "44:\tlearn: 0.2113182\ttotal: 184ms\tremaining: 3.9s\n",
            "45:\tlearn: 0.2076381\ttotal: 187ms\tremaining: 3.88s\n",
            "46:\tlearn: 0.2039888\ttotal: 193ms\tremaining: 3.91s\n",
            "47:\tlearn: 0.2015070\ttotal: 197ms\tremaining: 3.9s\n",
            "48:\tlearn: 0.1979806\ttotal: 199ms\tremaining: 3.87s\n",
            "49:\tlearn: 0.1957134\ttotal: 202ms\tremaining: 3.83s\n",
            "50:\tlearn: 0.1941834\ttotal: 204ms\tremaining: 3.8s\n",
            "51:\tlearn: 0.1920065\ttotal: 207ms\tremaining: 3.77s\n",
            "52:\tlearn: 0.1900341\ttotal: 209ms\tremaining: 3.74s\n",
            "53:\tlearn: 0.1880126\ttotal: 213ms\tremaining: 3.73s\n",
            "54:\tlearn: 0.1863218\ttotal: 216ms\tremaining: 3.71s\n",
            "55:\tlearn: 0.1836701\ttotal: 218ms\tremaining: 3.68s\n",
            "56:\tlearn: 0.1817489\ttotal: 221ms\tremaining: 3.66s\n",
            "57:\tlearn: 0.1801482\ttotal: 224ms\tremaining: 3.63s\n",
            "58:\tlearn: 0.1784182\ttotal: 227ms\tremaining: 3.61s\n",
            "59:\tlearn: 0.1755421\ttotal: 229ms\tremaining: 3.59s\n",
            "60:\tlearn: 0.1731675\ttotal: 232ms\tremaining: 3.57s\n",
            "61:\tlearn: 0.1716908\ttotal: 235ms\tremaining: 3.55s\n",
            "62:\tlearn: 0.1701261\ttotal: 237ms\tremaining: 3.53s\n",
            "63:\tlearn: 0.1679223\ttotal: 240ms\tremaining: 3.51s\n",
            "64:\tlearn: 0.1661254\ttotal: 243ms\tremaining: 3.49s\n",
            "65:\tlearn: 0.1644445\ttotal: 245ms\tremaining: 3.47s\n",
            "66:\tlearn: 0.1630118\ttotal: 248ms\tremaining: 3.46s\n",
            "67:\tlearn: 0.1613628\ttotal: 251ms\tremaining: 3.44s\n",
            "68:\tlearn: 0.1603541\ttotal: 254ms\tremaining: 3.42s\n",
            "69:\tlearn: 0.1586457\ttotal: 256ms\tremaining: 3.4s\n",
            "70:\tlearn: 0.1570045\ttotal: 259ms\tremaining: 3.39s\n",
            "71:\tlearn: 0.1551815\ttotal: 262ms\tremaining: 3.37s\n",
            "72:\tlearn: 0.1537161\ttotal: 264ms\tremaining: 3.35s\n",
            "73:\tlearn: 0.1527368\ttotal: 267ms\tremaining: 3.34s\n",
            "74:\tlearn: 0.1509427\ttotal: 270ms\tremaining: 3.33s\n",
            "75:\tlearn: 0.1499967\ttotal: 272ms\tremaining: 3.31s\n",
            "76:\tlearn: 0.1485483\ttotal: 275ms\tremaining: 3.29s\n",
            "77:\tlearn: 0.1475600\ttotal: 278ms\tremaining: 3.28s\n",
            "78:\tlearn: 0.1465976\ttotal: 280ms\tremaining: 3.27s\n",
            "79:\tlearn: 0.1454489\ttotal: 283ms\tremaining: 3.25s\n",
            "80:\tlearn: 0.1439496\ttotal: 286ms\tremaining: 3.24s\n",
            "81:\tlearn: 0.1431727\ttotal: 288ms\tremaining: 3.23s\n",
            "82:\tlearn: 0.1418953\ttotal: 291ms\tremaining: 3.21s\n",
            "83:\tlearn: 0.1410084\ttotal: 293ms\tremaining: 3.2s\n",
            "84:\tlearn: 0.1403206\ttotal: 296ms\tremaining: 3.19s\n",
            "85:\tlearn: 0.1397077\ttotal: 299ms\tremaining: 3.17s\n",
            "86:\tlearn: 0.1389088\ttotal: 301ms\tremaining: 3.16s\n",
            "87:\tlearn: 0.1376966\ttotal: 304ms\tremaining: 3.15s\n",
            "88:\tlearn: 0.1370194\ttotal: 307ms\tremaining: 3.14s\n",
            "89:\tlearn: 0.1363570\ttotal: 309ms\tremaining: 3.13s\n",
            "90:\tlearn: 0.1354548\ttotal: 312ms\tremaining: 3.12s\n",
            "91:\tlearn: 0.1346399\ttotal: 316ms\tremaining: 3.12s\n",
            "92:\tlearn: 0.1334948\ttotal: 319ms\tremaining: 3.11s\n",
            "93:\tlearn: 0.1327771\ttotal: 322ms\tremaining: 3.1s\n",
            "94:\tlearn: 0.1317454\ttotal: 324ms\tremaining: 3.09s\n",
            "95:\tlearn: 0.1312544\ttotal: 327ms\tremaining: 3.08s\n",
            "96:\tlearn: 0.1303575\ttotal: 329ms\tremaining: 3.07s\n",
            "97:\tlearn: 0.1295481\ttotal: 332ms\tremaining: 3.06s\n",
            "98:\tlearn: 0.1286181\ttotal: 335ms\tremaining: 3.05s\n",
            "99:\tlearn: 0.1279499\ttotal: 338ms\tremaining: 3.04s\n",
            "100:\tlearn: 0.1273652\ttotal: 340ms\tremaining: 3.03s\n",
            "101:\tlearn: 0.1265775\ttotal: 343ms\tremaining: 3.02s\n",
            "102:\tlearn: 0.1259587\ttotal: 346ms\tremaining: 3.01s\n",
            "103:\tlearn: 0.1252482\ttotal: 349ms\tremaining: 3s\n",
            "104:\tlearn: 0.1248119\ttotal: 352ms\tremaining: 3s\n",
            "105:\tlearn: 0.1246218\ttotal: 354ms\tremaining: 2.99s\n",
            "106:\tlearn: 0.1242893\ttotal: 357ms\tremaining: 2.98s\n",
            "107:\tlearn: 0.1234632\ttotal: 360ms\tremaining: 2.97s\n",
            "108:\tlearn: 0.1225758\ttotal: 364ms\tremaining: 2.97s\n",
            "109:\tlearn: 0.1221111\ttotal: 367ms\tremaining: 2.96s\n",
            "110:\tlearn: 0.1214095\ttotal: 370ms\tremaining: 2.97s\n",
            "111:\tlearn: 0.1208486\ttotal: 373ms\tremaining: 2.96s\n",
            "112:\tlearn: 0.1202578\ttotal: 376ms\tremaining: 2.95s\n",
            "113:\tlearn: 0.1198672\ttotal: 379ms\tremaining: 2.94s\n",
            "114:\tlearn: 0.1194577\ttotal: 385ms\tremaining: 2.96s\n",
            "115:\tlearn: 0.1189672\ttotal: 389ms\tremaining: 2.97s\n",
            "116:\tlearn: 0.1185080\ttotal: 392ms\tremaining: 2.96s\n",
            "117:\tlearn: 0.1180325\ttotal: 395ms\tremaining: 2.95s\n",
            "118:\tlearn: 0.1174296\ttotal: 397ms\tremaining: 2.94s\n",
            "119:\tlearn: 0.1170236\ttotal: 400ms\tremaining: 2.93s\n",
            "120:\tlearn: 0.1163159\ttotal: 403ms\tremaining: 2.93s\n",
            "121:\tlearn: 0.1157703\ttotal: 406ms\tremaining: 2.92s\n",
            "122:\tlearn: 0.1153078\ttotal: 409ms\tremaining: 2.91s\n",
            "123:\tlearn: 0.1149286\ttotal: 412ms\tremaining: 2.91s\n",
            "124:\tlearn: 0.1144208\ttotal: 415ms\tremaining: 2.9s\n",
            "125:\tlearn: 0.1140091\ttotal: 418ms\tremaining: 2.9s\n",
            "126:\tlearn: 0.1136222\ttotal: 421ms\tremaining: 2.89s\n",
            "127:\tlearn: 0.1132914\ttotal: 424ms\tremaining: 2.89s\n",
            "128:\tlearn: 0.1129583\ttotal: 427ms\tremaining: 2.88s\n",
            "129:\tlearn: 0.1127695\ttotal: 430ms\tremaining: 2.87s\n",
            "130:\tlearn: 0.1125933\ttotal: 432ms\tremaining: 2.87s\n",
            "131:\tlearn: 0.1122372\ttotal: 435ms\tremaining: 2.86s\n",
            "132:\tlearn: 0.1119725\ttotal: 438ms\tremaining: 2.85s\n",
            "133:\tlearn: 0.1115349\ttotal: 440ms\tremaining: 2.84s\n",
            "134:\tlearn: 0.1112144\ttotal: 443ms\tremaining: 2.84s\n",
            "135:\tlearn: 0.1107466\ttotal: 447ms\tremaining: 2.84s\n",
            "136:\tlearn: 0.1105574\ttotal: 450ms\tremaining: 2.84s\n",
            "137:\tlearn: 0.1101622\ttotal: 453ms\tremaining: 2.83s\n",
            "138:\tlearn: 0.1098330\ttotal: 456ms\tremaining: 2.83s\n",
            "139:\tlearn: 0.1095913\ttotal: 459ms\tremaining: 2.82s\n",
            "140:\tlearn: 0.1091672\ttotal: 462ms\tremaining: 2.82s\n",
            "141:\tlearn: 0.1087612\ttotal: 465ms\tremaining: 2.81s\n",
            "142:\tlearn: 0.1084076\ttotal: 468ms\tremaining: 2.81s\n",
            "143:\tlearn: 0.1079292\ttotal: 471ms\tremaining: 2.8s\n",
            "144:\tlearn: 0.1076875\ttotal: 474ms\tremaining: 2.79s\n",
            "145:\tlearn: 0.1074201\ttotal: 477ms\tremaining: 2.79s\n",
            "146:\tlearn: 0.1072063\ttotal: 480ms\tremaining: 2.78s\n",
            "147:\tlearn: 0.1068828\ttotal: 482ms\tremaining: 2.78s\n",
            "148:\tlearn: 0.1064688\ttotal: 485ms\tremaining: 2.77s\n",
            "149:\tlearn: 0.1061785\ttotal: 488ms\tremaining: 2.76s\n",
            "150:\tlearn: 0.1059200\ttotal: 490ms\tremaining: 2.76s\n",
            "151:\tlearn: 0.1055869\ttotal: 493ms\tremaining: 2.75s\n",
            "152:\tlearn: 0.1054179\ttotal: 496ms\tremaining: 2.74s\n",
            "153:\tlearn: 0.1050184\ttotal: 499ms\tremaining: 2.74s\n",
            "154:\tlearn: 0.1048511\ttotal: 501ms\tremaining: 2.73s\n",
            "155:\tlearn: 0.1045372\ttotal: 504ms\tremaining: 2.73s\n",
            "156:\tlearn: 0.1043333\ttotal: 507ms\tremaining: 2.72s\n",
            "157:\tlearn: 0.1040960\ttotal: 510ms\tremaining: 2.72s\n",
            "158:\tlearn: 0.1038791\ttotal: 512ms\tremaining: 2.71s\n",
            "159:\tlearn: 0.1037116\ttotal: 515ms\tremaining: 2.7s\n",
            "160:\tlearn: 0.1033280\ttotal: 518ms\tremaining: 2.7s\n",
            "161:\tlearn: 0.1032101\ttotal: 520ms\tremaining: 2.69s\n",
            "162:\tlearn: 0.1030019\ttotal: 523ms\tremaining: 2.69s\n",
            "163:\tlearn: 0.1028682\ttotal: 526ms\tremaining: 2.68s\n",
            "164:\tlearn: 0.1024852\ttotal: 529ms\tremaining: 2.68s\n",
            "165:\tlearn: 0.1021452\ttotal: 532ms\tremaining: 2.67s\n",
            "166:\tlearn: 0.1020053\ttotal: 535ms\tremaining: 2.67s\n",
            "167:\tlearn: 0.1016581\ttotal: 537ms\tremaining: 2.66s\n",
            "168:\tlearn: 0.1014347\ttotal: 540ms\tremaining: 2.65s\n",
            "169:\tlearn: 0.1012302\ttotal: 543ms\tremaining: 2.65s\n",
            "170:\tlearn: 0.1010074\ttotal: 546ms\tremaining: 2.64s\n",
            "171:\tlearn: 0.1009113\ttotal: 548ms\tremaining: 2.64s\n",
            "172:\tlearn: 0.1005853\ttotal: 551ms\tremaining: 2.63s\n",
            "173:\tlearn: 0.1002050\ttotal: 554ms\tremaining: 2.63s\n",
            "174:\tlearn: 0.1000673\ttotal: 557ms\tremaining: 2.63s\n",
            "175:\tlearn: 0.0998762\ttotal: 560ms\tremaining: 2.62s\n",
            "176:\tlearn: 0.0996657\ttotal: 563ms\tremaining: 2.62s\n",
            "177:\tlearn: 0.0994260\ttotal: 566ms\tremaining: 2.61s\n",
            "178:\tlearn: 0.0990814\ttotal: 569ms\tremaining: 2.61s\n",
            "179:\tlearn: 0.0989037\ttotal: 573ms\tremaining: 2.61s\n",
            "180:\tlearn: 0.0987357\ttotal: 578ms\tremaining: 2.62s\n",
            "181:\tlearn: 0.0985554\ttotal: 583ms\tremaining: 2.62s\n",
            "182:\tlearn: 0.0983873\ttotal: 586ms\tremaining: 2.62s\n",
            "183:\tlearn: 0.0981956\ttotal: 589ms\tremaining: 2.61s\n",
            "184:\tlearn: 0.0979982\ttotal: 591ms\tremaining: 2.6s\n",
            "185:\tlearn: 0.0978643\ttotal: 594ms\tremaining: 2.6s\n",
            "186:\tlearn: 0.0976624\ttotal: 597ms\tremaining: 2.59s\n",
            "187:\tlearn: 0.0974302\ttotal: 599ms\tremaining: 2.59s\n",
            "188:\tlearn: 0.0972137\ttotal: 602ms\tremaining: 2.58s\n",
            "189:\tlearn: 0.0969543\ttotal: 605ms\tremaining: 2.58s\n",
            "190:\tlearn: 0.0968743\ttotal: 608ms\tremaining: 2.57s\n",
            "191:\tlearn: 0.0966905\ttotal: 610ms\tremaining: 2.57s\n",
            "192:\tlearn: 0.0963974\ttotal: 613ms\tremaining: 2.56s\n",
            "193:\tlearn: 0.0962218\ttotal: 616ms\tremaining: 2.56s\n",
            "194:\tlearn: 0.0960671\ttotal: 618ms\tremaining: 2.55s\n",
            "195:\tlearn: 0.0958556\ttotal: 621ms\tremaining: 2.55s\n",
            "196:\tlearn: 0.0957369\ttotal: 624ms\tremaining: 2.54s\n",
            "197:\tlearn: 0.0954645\ttotal: 626ms\tremaining: 2.54s\n",
            "198:\tlearn: 0.0953544\ttotal: 629ms\tremaining: 2.53s\n",
            "199:\tlearn: 0.0952383\ttotal: 632ms\tremaining: 2.53s\n",
            "200:\tlearn: 0.0949687\ttotal: 634ms\tremaining: 2.52s\n",
            "201:\tlearn: 0.0948760\ttotal: 637ms\tremaining: 2.52s\n",
            "202:\tlearn: 0.0947817\ttotal: 640ms\tremaining: 2.51s\n",
            "203:\tlearn: 0.0946418\ttotal: 643ms\tremaining: 2.51s\n",
            "204:\tlearn: 0.0944956\ttotal: 645ms\tremaining: 2.5s\n",
            "205:\tlearn: 0.0944309\ttotal: 648ms\tremaining: 2.5s\n",
            "206:\tlearn: 0.0941158\ttotal: 651ms\tremaining: 2.49s\n",
            "207:\tlearn: 0.0940455\ttotal: 653ms\tremaining: 2.49s\n",
            "208:\tlearn: 0.0939884\ttotal: 656ms\tremaining: 2.48s\n",
            "209:\tlearn: 0.0938808\ttotal: 658ms\tremaining: 2.48s\n",
            "210:\tlearn: 0.0937208\ttotal: 661ms\tremaining: 2.47s\n",
            "211:\tlearn: 0.0934641\ttotal: 664ms\tremaining: 2.47s\n",
            "212:\tlearn: 0.0932334\ttotal: 667ms\tremaining: 2.46s\n",
            "213:\tlearn: 0.0930466\ttotal: 669ms\tremaining: 2.46s\n",
            "214:\tlearn: 0.0927123\ttotal: 672ms\tremaining: 2.45s\n",
            "215:\tlearn: 0.0925600\ttotal: 675ms\tremaining: 2.45s\n",
            "216:\tlearn: 0.0923504\ttotal: 677ms\tremaining: 2.44s\n",
            "217:\tlearn: 0.0921603\ttotal: 680ms\tremaining: 2.44s\n",
            "218:\tlearn: 0.0919747\ttotal: 683ms\tremaining: 2.44s\n",
            "219:\tlearn: 0.0918476\ttotal: 686ms\tremaining: 2.43s\n",
            "220:\tlearn: 0.0916943\ttotal: 689ms\tremaining: 2.43s\n",
            "221:\tlearn: 0.0915252\ttotal: 692ms\tremaining: 2.42s\n",
            "222:\tlearn: 0.0914458\ttotal: 695ms\tremaining: 2.42s\n",
            "223:\tlearn: 0.0912861\ttotal: 697ms\tremaining: 2.42s\n",
            "224:\tlearn: 0.0910613\ttotal: 700ms\tremaining: 2.41s\n",
            "225:\tlearn: 0.0910004\ttotal: 703ms\tremaining: 2.41s\n",
            "226:\tlearn: 0.0907112\ttotal: 705ms\tremaining: 2.4s\n",
            "227:\tlearn: 0.0906098\ttotal: 708ms\tremaining: 2.4s\n",
            "228:\tlearn: 0.0904981\ttotal: 711ms\tremaining: 2.39s\n",
            "229:\tlearn: 0.0903927\ttotal: 713ms\tremaining: 2.39s\n",
            "230:\tlearn: 0.0902861\ttotal: 716ms\tremaining: 2.38s\n",
            "231:\tlearn: 0.0901849\ttotal: 719ms\tremaining: 2.38s\n",
            "232:\tlearn: 0.0900462\ttotal: 722ms\tremaining: 2.38s\n",
            "233:\tlearn: 0.0899475\ttotal: 724ms\tremaining: 2.37s\n",
            "234:\tlearn: 0.0897311\ttotal: 727ms\tremaining: 2.37s\n",
            "235:\tlearn: 0.0895374\ttotal: 730ms\tremaining: 2.36s\n",
            "236:\tlearn: 0.0893996\ttotal: 732ms\tremaining: 2.36s\n",
            "237:\tlearn: 0.0892785\ttotal: 735ms\tremaining: 2.35s\n",
            "238:\tlearn: 0.0891740\ttotal: 738ms\tremaining: 2.35s\n",
            "239:\tlearn: 0.0890629\ttotal: 741ms\tremaining: 2.35s\n",
            "240:\tlearn: 0.0889183\ttotal: 744ms\tremaining: 2.34s\n",
            "241:\tlearn: 0.0888124\ttotal: 747ms\tremaining: 2.34s\n",
            "242:\tlearn: 0.0886941\ttotal: 750ms\tremaining: 2.33s\n",
            "243:\tlearn: 0.0885219\ttotal: 753ms\tremaining: 2.33s\n",
            "244:\tlearn: 0.0883956\ttotal: 755ms\tremaining: 2.33s\n",
            "245:\tlearn: 0.0883300\ttotal: 758ms\tremaining: 2.32s\n",
            "246:\tlearn: 0.0881896\ttotal: 762ms\tremaining: 2.32s\n",
            "247:\tlearn: 0.0880751\ttotal: 765ms\tremaining: 2.32s\n",
            "248:\tlearn: 0.0879661\ttotal: 767ms\tremaining: 2.31s\n",
            "249:\tlearn: 0.0877790\ttotal: 772ms\tremaining: 2.32s\n",
            "250:\tlearn: 0.0875358\ttotal: 776ms\tremaining: 2.32s\n",
            "251:\tlearn: 0.0874528\ttotal: 779ms\tremaining: 2.31s\n",
            "252:\tlearn: 0.0872543\ttotal: 782ms\tremaining: 2.31s\n",
            "253:\tlearn: 0.0871057\ttotal: 784ms\tremaining: 2.3s\n",
            "254:\tlearn: 0.0869507\ttotal: 787ms\tremaining: 2.3s\n",
            "255:\tlearn: 0.0867210\ttotal: 790ms\tremaining: 2.3s\n",
            "256:\tlearn: 0.0865750\ttotal: 793ms\tremaining: 2.29s\n",
            "257:\tlearn: 0.0864199\ttotal: 796ms\tremaining: 2.29s\n",
            "258:\tlearn: 0.0863147\ttotal: 799ms\tremaining: 2.29s\n",
            "259:\tlearn: 0.0861444\ttotal: 802ms\tremaining: 2.28s\n",
            "260:\tlearn: 0.0860048\ttotal: 805ms\tremaining: 2.28s\n",
            "261:\tlearn: 0.0859118\ttotal: 808ms\tremaining: 2.27s\n",
            "262:\tlearn: 0.0858663\ttotal: 811ms\tremaining: 2.27s\n",
            "263:\tlearn: 0.0857801\ttotal: 814ms\tremaining: 2.27s\n",
            "264:\tlearn: 0.0856613\ttotal: 817ms\tremaining: 2.27s\n",
            "265:\tlearn: 0.0855460\ttotal: 820ms\tremaining: 2.26s\n",
            "266:\tlearn: 0.0854336\ttotal: 822ms\tremaining: 2.26s\n",
            "267:\tlearn: 0.0853231\ttotal: 825ms\tremaining: 2.25s\n",
            "268:\tlearn: 0.0851182\ttotal: 828ms\tremaining: 2.25s\n",
            "269:\tlearn: 0.0849896\ttotal: 831ms\tremaining: 2.25s\n",
            "270:\tlearn: 0.0848956\ttotal: 834ms\tremaining: 2.24s\n",
            "271:\tlearn: 0.0847488\ttotal: 836ms\tremaining: 2.24s\n",
            "272:\tlearn: 0.0846240\ttotal: 839ms\tremaining: 2.23s\n",
            "273:\tlearn: 0.0844206\ttotal: 842ms\tremaining: 2.23s\n",
            "274:\tlearn: 0.0843649\ttotal: 844ms\tremaining: 2.23s\n",
            "275:\tlearn: 0.0843041\ttotal: 847ms\tremaining: 2.22s\n",
            "276:\tlearn: 0.0842019\ttotal: 850ms\tremaining: 2.22s\n",
            "277:\tlearn: 0.0840874\ttotal: 853ms\tremaining: 2.21s\n",
            "278:\tlearn: 0.0839171\ttotal: 856ms\tremaining: 2.21s\n",
            "279:\tlearn: 0.0838237\ttotal: 858ms\tremaining: 2.21s\n",
            "280:\tlearn: 0.0837649\ttotal: 861ms\tremaining: 2.2s\n",
            "281:\tlearn: 0.0836267\ttotal: 864ms\tremaining: 2.2s\n",
            "282:\tlearn: 0.0835493\ttotal: 867ms\tremaining: 2.19s\n",
            "283:\tlearn: 0.0832889\ttotal: 869ms\tremaining: 2.19s\n",
            "284:\tlearn: 0.0831552\ttotal: 872ms\tremaining: 2.19s\n",
            "285:\tlearn: 0.0829535\ttotal: 875ms\tremaining: 2.18s\n",
            "286:\tlearn: 0.0827394\ttotal: 877ms\tremaining: 2.18s\n",
            "287:\tlearn: 0.0825778\ttotal: 880ms\tremaining: 2.17s\n",
            "288:\tlearn: 0.0824721\ttotal: 882ms\tremaining: 2.17s\n",
            "289:\tlearn: 0.0823975\ttotal: 885ms\tremaining: 2.17s\n",
            "290:\tlearn: 0.0823055\ttotal: 888ms\tremaining: 2.16s\n",
            "291:\tlearn: 0.0822113\ttotal: 890ms\tremaining: 2.16s\n",
            "292:\tlearn: 0.0821130\ttotal: 893ms\tremaining: 2.15s\n",
            "293:\tlearn: 0.0819859\ttotal: 896ms\tremaining: 2.15s\n",
            "294:\tlearn: 0.0818748\ttotal: 899ms\tremaining: 2.15s\n",
            "295:\tlearn: 0.0816407\ttotal: 901ms\tremaining: 2.14s\n",
            "296:\tlearn: 0.0815609\ttotal: 904ms\tremaining: 2.14s\n",
            "297:\tlearn: 0.0814192\ttotal: 907ms\tremaining: 2.14s\n",
            "298:\tlearn: 0.0812108\ttotal: 910ms\tremaining: 2.13s\n",
            "299:\tlearn: 0.0811872\ttotal: 912ms\tremaining: 2.13s\n",
            "300:\tlearn: 0.0810607\ttotal: 915ms\tremaining: 2.12s\n",
            "301:\tlearn: 0.0809510\ttotal: 918ms\tremaining: 2.12s\n",
            "302:\tlearn: 0.0808458\ttotal: 921ms\tremaining: 2.12s\n",
            "303:\tlearn: 0.0805871\ttotal: 926ms\tremaining: 2.12s\n",
            "304:\tlearn: 0.0805223\ttotal: 929ms\tremaining: 2.12s\n",
            "305:\tlearn: 0.0803431\ttotal: 932ms\tremaining: 2.11s\n",
            "306:\tlearn: 0.0802025\ttotal: 935ms\tremaining: 2.11s\n",
            "307:\tlearn: 0.0800882\ttotal: 938ms\tremaining: 2.11s\n",
            "308:\tlearn: 0.0800251\ttotal: 941ms\tremaining: 2.1s\n",
            "309:\tlearn: 0.0797699\ttotal: 944ms\tremaining: 2.1s\n",
            "310:\tlearn: 0.0796838\ttotal: 947ms\tremaining: 2.1s\n",
            "311:\tlearn: 0.0796397\ttotal: 950ms\tremaining: 2.09s\n",
            "312:\tlearn: 0.0795870\ttotal: 953ms\tremaining: 2.09s\n",
            "313:\tlearn: 0.0795152\ttotal: 955ms\tremaining: 2.09s\n",
            "314:\tlearn: 0.0793087\ttotal: 958ms\tremaining: 2.08s\n",
            "315:\tlearn: 0.0791894\ttotal: 966ms\tremaining: 2.09s\n",
            "316:\tlearn: 0.0790516\ttotal: 969ms\tremaining: 2.09s\n",
            "317:\tlearn: 0.0789258\ttotal: 972ms\tremaining: 2.08s\n",
            "318:\tlearn: 0.0788581\ttotal: 975ms\tremaining: 2.08s\n",
            "319:\tlearn: 0.0788015\ttotal: 977ms\tremaining: 2.08s\n",
            "320:\tlearn: 0.0786797\ttotal: 980ms\tremaining: 2.07s\n",
            "321:\tlearn: 0.0785772\ttotal: 983ms\tremaining: 2.07s\n",
            "322:\tlearn: 0.0784612\ttotal: 986ms\tremaining: 2.07s\n",
            "323:\tlearn: 0.0784168\ttotal: 989ms\tremaining: 2.06s\n",
            "324:\tlearn: 0.0783194\ttotal: 991ms\tremaining: 2.06s\n",
            "325:\tlearn: 0.0781903\ttotal: 994ms\tremaining: 2.06s\n",
            "326:\tlearn: 0.0780463\ttotal: 997ms\tremaining: 2.05s\n",
            "327:\tlearn: 0.0779865\ttotal: 1000ms\tremaining: 2.05s\n",
            "328:\tlearn: 0.0778060\ttotal: 1s\tremaining: 2.04s\n",
            "329:\tlearn: 0.0777141\ttotal: 1s\tremaining: 2.04s\n",
            "330:\tlearn: 0.0776814\ttotal: 1.01s\tremaining: 2.04s\n",
            "331:\tlearn: 0.0774711\ttotal: 1.01s\tremaining: 2.04s\n",
            "332:\tlearn: 0.0773693\ttotal: 1.01s\tremaining: 2.03s\n",
            "333:\tlearn: 0.0772944\ttotal: 1.02s\tremaining: 2.03s\n",
            "334:\tlearn: 0.0772152\ttotal: 1.02s\tremaining: 2.03s\n",
            "335:\tlearn: 0.0771706\ttotal: 1.02s\tremaining: 2.02s\n",
            "336:\tlearn: 0.0770526\ttotal: 1.03s\tremaining: 2.02s\n",
            "337:\tlearn: 0.0769608\ttotal: 1.03s\tremaining: 2.02s\n",
            "338:\tlearn: 0.0768038\ttotal: 1.03s\tremaining: 2.01s\n",
            "339:\tlearn: 0.0767236\ttotal: 1.03s\tremaining: 2.01s\n",
            "340:\tlearn: 0.0766428\ttotal: 1.04s\tremaining: 2s\n",
            "341:\tlearn: 0.0766100\ttotal: 1.04s\tremaining: 2s\n",
            "342:\tlearn: 0.0765598\ttotal: 1.04s\tremaining: 2s\n",
            "343:\tlearn: 0.0764732\ttotal: 1.05s\tremaining: 1.99s\n",
            "344:\tlearn: 0.0763605\ttotal: 1.05s\tremaining: 1.99s\n",
            "345:\tlearn: 0.0762989\ttotal: 1.05s\tremaining: 1.99s\n",
            "346:\tlearn: 0.0761301\ttotal: 1.05s\tremaining: 1.98s\n",
            "347:\tlearn: 0.0760331\ttotal: 1.06s\tremaining: 1.98s\n",
            "348:\tlearn: 0.0758859\ttotal: 1.06s\tremaining: 1.98s\n",
            "349:\tlearn: 0.0758015\ttotal: 1.06s\tremaining: 1.97s\n",
            "350:\tlearn: 0.0756781\ttotal: 1.06s\tremaining: 1.97s\n",
            "351:\tlearn: 0.0755832\ttotal: 1.07s\tremaining: 1.97s\n",
            "352:\tlearn: 0.0755027\ttotal: 1.07s\tremaining: 1.96s\n",
            "353:\tlearn: 0.0753849\ttotal: 1.07s\tremaining: 1.96s\n",
            "354:\tlearn: 0.0753037\ttotal: 1.07s\tremaining: 1.95s\n",
            "355:\tlearn: 0.0752422\ttotal: 1.08s\tremaining: 1.95s\n",
            "356:\tlearn: 0.0751198\ttotal: 1.08s\tremaining: 1.95s\n",
            "357:\tlearn: 0.0750126\ttotal: 1.08s\tremaining: 1.95s\n",
            "358:\tlearn: 0.0749137\ttotal: 1.09s\tremaining: 1.94s\n",
            "359:\tlearn: 0.0747980\ttotal: 1.09s\tremaining: 1.94s\n",
            "360:\tlearn: 0.0746953\ttotal: 1.09s\tremaining: 1.94s\n",
            "361:\tlearn: 0.0745390\ttotal: 1.1s\tremaining: 1.93s\n",
            "362:\tlearn: 0.0744010\ttotal: 1.1s\tremaining: 1.93s\n",
            "363:\tlearn: 0.0743364\ttotal: 1.1s\tremaining: 1.93s\n",
            "364:\tlearn: 0.0742437\ttotal: 1.1s\tremaining: 1.92s\n",
            "365:\tlearn: 0.0741216\ttotal: 1.11s\tremaining: 1.92s\n",
            "366:\tlearn: 0.0740946\ttotal: 1.12s\tremaining: 1.93s\n",
            "367:\tlearn: 0.0740454\ttotal: 1.12s\tremaining: 1.93s\n",
            "368:\tlearn: 0.0739664\ttotal: 1.13s\tremaining: 1.93s\n",
            "369:\tlearn: 0.0738475\ttotal: 1.13s\tremaining: 1.93s\n",
            "370:\tlearn: 0.0737844\ttotal: 1.14s\tremaining: 1.92s\n",
            "371:\tlearn: 0.0737066\ttotal: 1.14s\tremaining: 1.92s\n",
            "372:\tlearn: 0.0735528\ttotal: 1.14s\tremaining: 1.92s\n",
            "373:\tlearn: 0.0734366\ttotal: 1.14s\tremaining: 1.92s\n",
            "374:\tlearn: 0.0733326\ttotal: 1.15s\tremaining: 1.91s\n",
            "375:\tlearn: 0.0732374\ttotal: 1.15s\tremaining: 1.91s\n",
            "376:\tlearn: 0.0731408\ttotal: 1.16s\tremaining: 1.91s\n",
            "377:\tlearn: 0.0729820\ttotal: 1.16s\tremaining: 1.91s\n",
            "378:\tlearn: 0.0729110\ttotal: 1.16s\tremaining: 1.91s\n",
            "379:\tlearn: 0.0728621\ttotal: 1.17s\tremaining: 1.9s\n",
            "380:\tlearn: 0.0727761\ttotal: 1.17s\tremaining: 1.9s\n",
            "381:\tlearn: 0.0727439\ttotal: 1.17s\tremaining: 1.9s\n",
            "382:\tlearn: 0.0726874\ttotal: 1.17s\tremaining: 1.89s\n",
            "383:\tlearn: 0.0725863\ttotal: 1.18s\tremaining: 1.89s\n",
            "384:\tlearn: 0.0724993\ttotal: 1.18s\tremaining: 1.88s\n",
            "385:\tlearn: 0.0724135\ttotal: 1.18s\tremaining: 1.88s\n",
            "386:\tlearn: 0.0723561\ttotal: 1.19s\tremaining: 1.88s\n",
            "387:\tlearn: 0.0722749\ttotal: 1.19s\tremaining: 1.87s\n",
            "388:\tlearn: 0.0721970\ttotal: 1.19s\tremaining: 1.87s\n",
            "389:\tlearn: 0.0721554\ttotal: 1.19s\tremaining: 1.87s\n",
            "390:\tlearn: 0.0720411\ttotal: 1.2s\tremaining: 1.86s\n",
            "391:\tlearn: 0.0719284\ttotal: 1.2s\tremaining: 1.86s\n",
            "392:\tlearn: 0.0718422\ttotal: 1.2s\tremaining: 1.86s\n",
            "393:\tlearn: 0.0717437\ttotal: 1.21s\tremaining: 1.85s\n",
            "394:\tlearn: 0.0716654\ttotal: 1.21s\tremaining: 1.85s\n",
            "395:\tlearn: 0.0715793\ttotal: 1.21s\tremaining: 1.85s\n",
            "396:\tlearn: 0.0714484\ttotal: 1.21s\tremaining: 1.84s\n",
            "397:\tlearn: 0.0713407\ttotal: 1.22s\tremaining: 1.84s\n",
            "398:\tlearn: 0.0712542\ttotal: 1.22s\tremaining: 1.84s\n",
            "399:\tlearn: 0.0712028\ttotal: 1.22s\tremaining: 1.83s\n",
            "400:\tlearn: 0.0711452\ttotal: 1.22s\tremaining: 1.83s\n",
            "401:\tlearn: 0.0710820\ttotal: 1.23s\tremaining: 1.82s\n",
            "402:\tlearn: 0.0710089\ttotal: 1.23s\tremaining: 1.82s\n",
            "403:\tlearn: 0.0708602\ttotal: 1.23s\tremaining: 1.82s\n",
            "404:\tlearn: 0.0707262\ttotal: 1.24s\tremaining: 1.81s\n",
            "405:\tlearn: 0.0705705\ttotal: 1.24s\tremaining: 1.81s\n",
            "406:\tlearn: 0.0704884\ttotal: 1.24s\tremaining: 1.81s\n",
            "407:\tlearn: 0.0704430\ttotal: 1.24s\tremaining: 1.8s\n",
            "408:\tlearn: 0.0703300\ttotal: 1.25s\tremaining: 1.8s\n",
            "409:\tlearn: 0.0702804\ttotal: 1.25s\tremaining: 1.8s\n",
            "410:\tlearn: 0.0701802\ttotal: 1.25s\tremaining: 1.79s\n",
            "411:\tlearn: 0.0700733\ttotal: 1.25s\tremaining: 1.79s\n",
            "412:\tlearn: 0.0699702\ttotal: 1.26s\tremaining: 1.79s\n",
            "413:\tlearn: 0.0698749\ttotal: 1.26s\tremaining: 1.78s\n",
            "414:\tlearn: 0.0698481\ttotal: 1.26s\tremaining: 1.78s\n",
            "415:\tlearn: 0.0697404\ttotal: 1.26s\tremaining: 1.78s\n",
            "416:\tlearn: 0.0696546\ttotal: 1.27s\tremaining: 1.77s\n",
            "417:\tlearn: 0.0695665\ttotal: 1.27s\tremaining: 1.77s\n",
            "418:\tlearn: 0.0694623\ttotal: 1.27s\tremaining: 1.76s\n",
            "419:\tlearn: 0.0693781\ttotal: 1.27s\tremaining: 1.76s\n",
            "420:\tlearn: 0.0693048\ttotal: 1.28s\tremaining: 1.76s\n",
            "421:\tlearn: 0.0692448\ttotal: 1.28s\tremaining: 1.75s\n",
            "422:\tlearn: 0.0691627\ttotal: 1.28s\tremaining: 1.75s\n",
            "423:\tlearn: 0.0690654\ttotal: 1.29s\tremaining: 1.75s\n",
            "424:\tlearn: 0.0689948\ttotal: 1.29s\tremaining: 1.75s\n",
            "425:\tlearn: 0.0689093\ttotal: 1.29s\tremaining: 1.74s\n",
            "426:\tlearn: 0.0687544\ttotal: 1.3s\tremaining: 1.74s\n",
            "427:\tlearn: 0.0686812\ttotal: 1.3s\tremaining: 1.74s\n",
            "428:\tlearn: 0.0686045\ttotal: 1.3s\tremaining: 1.73s\n",
            "429:\tlearn: 0.0684551\ttotal: 1.3s\tremaining: 1.73s\n",
            "430:\tlearn: 0.0683858\ttotal: 1.31s\tremaining: 1.73s\n",
            "431:\tlearn: 0.0683041\ttotal: 1.31s\tremaining: 1.72s\n",
            "432:\tlearn: 0.0681828\ttotal: 1.31s\tremaining: 1.72s\n",
            "433:\tlearn: 0.0681030\ttotal: 1.32s\tremaining: 1.72s\n",
            "434:\tlearn: 0.0680254\ttotal: 1.32s\tremaining: 1.71s\n",
            "435:\tlearn: 0.0679568\ttotal: 1.32s\tremaining: 1.71s\n",
            "436:\tlearn: 0.0678920\ttotal: 1.32s\tremaining: 1.71s\n",
            "437:\tlearn: 0.0678284\ttotal: 1.33s\tremaining: 1.7s\n",
            "438:\tlearn: 0.0676896\ttotal: 1.33s\tremaining: 1.7s\n",
            "439:\tlearn: 0.0676409\ttotal: 1.33s\tremaining: 1.7s\n",
            "440:\tlearn: 0.0676198\ttotal: 1.34s\tremaining: 1.7s\n",
            "441:\tlearn: 0.0675042\ttotal: 1.34s\tremaining: 1.69s\n",
            "442:\tlearn: 0.0674214\ttotal: 1.34s\tremaining: 1.69s\n",
            "443:\tlearn: 0.0673626\ttotal: 1.35s\tremaining: 1.69s\n",
            "444:\tlearn: 0.0672717\ttotal: 1.35s\tremaining: 1.69s\n",
            "445:\tlearn: 0.0672084\ttotal: 1.36s\tremaining: 1.69s\n",
            "446:\tlearn: 0.0671174\ttotal: 1.36s\tremaining: 1.68s\n",
            "447:\tlearn: 0.0671037\ttotal: 1.36s\tremaining: 1.68s\n",
            "448:\tlearn: 0.0670696\ttotal: 1.36s\tremaining: 1.68s\n",
            "449:\tlearn: 0.0669556\ttotal: 1.37s\tremaining: 1.67s\n",
            "450:\tlearn: 0.0668577\ttotal: 1.37s\tremaining: 1.67s\n",
            "451:\tlearn: 0.0667546\ttotal: 1.37s\tremaining: 1.67s\n",
            "452:\tlearn: 0.0666345\ttotal: 1.38s\tremaining: 1.66s\n",
            "453:\tlearn: 0.0665680\ttotal: 1.38s\tremaining: 1.66s\n",
            "454:\tlearn: 0.0664756\ttotal: 1.38s\tremaining: 1.66s\n",
            "455:\tlearn: 0.0664449\ttotal: 1.39s\tremaining: 1.65s\n",
            "456:\tlearn: 0.0663439\ttotal: 1.39s\tremaining: 1.65s\n",
            "457:\tlearn: 0.0662511\ttotal: 1.39s\tremaining: 1.65s\n",
            "458:\tlearn: 0.0661671\ttotal: 1.39s\tremaining: 1.64s\n",
            "459:\tlearn: 0.0661098\ttotal: 1.4s\tremaining: 1.64s\n",
            "460:\tlearn: 0.0659988\ttotal: 1.4s\tremaining: 1.64s\n",
            "461:\tlearn: 0.0659143\ttotal: 1.4s\tremaining: 1.63s\n",
            "462:\tlearn: 0.0658757\ttotal: 1.4s\tremaining: 1.63s\n",
            "463:\tlearn: 0.0658411\ttotal: 1.41s\tremaining: 1.63s\n",
            "464:\tlearn: 0.0656884\ttotal: 1.41s\tremaining: 1.62s\n",
            "465:\tlearn: 0.0655802\ttotal: 1.41s\tremaining: 1.62s\n",
            "466:\tlearn: 0.0654682\ttotal: 1.42s\tremaining: 1.61s\n",
            "467:\tlearn: 0.0653786\ttotal: 1.42s\tremaining: 1.61s\n",
            "468:\tlearn: 0.0652366\ttotal: 1.42s\tremaining: 1.61s\n",
            "469:\tlearn: 0.0651712\ttotal: 1.42s\tremaining: 1.6s\n",
            "470:\tlearn: 0.0650865\ttotal: 1.43s\tremaining: 1.6s\n",
            "471:\tlearn: 0.0650085\ttotal: 1.43s\tremaining: 1.6s\n",
            "472:\tlearn: 0.0649374\ttotal: 1.43s\tremaining: 1.59s\n",
            "473:\tlearn: 0.0648615\ttotal: 1.43s\tremaining: 1.59s\n",
            "474:\tlearn: 0.0647735\ttotal: 1.44s\tremaining: 1.59s\n",
            "475:\tlearn: 0.0646994\ttotal: 1.44s\tremaining: 1.58s\n",
            "476:\tlearn: 0.0646257\ttotal: 1.44s\tremaining: 1.58s\n",
            "477:\tlearn: 0.0645960\ttotal: 1.45s\tremaining: 1.58s\n",
            "478:\tlearn: 0.0645750\ttotal: 1.45s\tremaining: 1.57s\n",
            "479:\tlearn: 0.0645106\ttotal: 1.45s\tremaining: 1.57s\n",
            "480:\tlearn: 0.0643985\ttotal: 1.45s\tremaining: 1.57s\n",
            "481:\tlearn: 0.0643408\ttotal: 1.46s\tremaining: 1.56s\n",
            "482:\tlearn: 0.0643000\ttotal: 1.46s\tremaining: 1.56s\n",
            "483:\tlearn: 0.0642360\ttotal: 1.46s\tremaining: 1.56s\n",
            "484:\tlearn: 0.0641768\ttotal: 1.47s\tremaining: 1.56s\n",
            "485:\tlearn: 0.0641529\ttotal: 1.47s\tremaining: 1.55s\n",
            "486:\tlearn: 0.0641126\ttotal: 1.47s\tremaining: 1.55s\n",
            "487:\tlearn: 0.0640242\ttotal: 1.47s\tremaining: 1.55s\n",
            "488:\tlearn: 0.0638904\ttotal: 1.48s\tremaining: 1.54s\n",
            "489:\tlearn: 0.0638092\ttotal: 1.48s\tremaining: 1.54s\n",
            "490:\tlearn: 0.0636919\ttotal: 1.48s\tremaining: 1.54s\n",
            "491:\tlearn: 0.0635819\ttotal: 1.49s\tremaining: 1.53s\n",
            "492:\tlearn: 0.0635386\ttotal: 1.49s\tremaining: 1.53s\n",
            "493:\tlearn: 0.0635237\ttotal: 1.49s\tremaining: 1.53s\n",
            "494:\tlearn: 0.0634570\ttotal: 1.49s\tremaining: 1.52s\n",
            "495:\tlearn: 0.0634061\ttotal: 1.5s\tremaining: 1.52s\n",
            "496:\tlearn: 0.0632927\ttotal: 1.5s\tremaining: 1.52s\n",
            "497:\tlearn: 0.0631938\ttotal: 1.5s\tremaining: 1.51s\n",
            "498:\tlearn: 0.0631839\ttotal: 1.51s\tremaining: 1.51s\n",
            "499:\tlearn: 0.0631249\ttotal: 1.51s\tremaining: 1.51s\n",
            "500:\tlearn: 0.0630361\ttotal: 1.51s\tremaining: 1.5s\n",
            "501:\tlearn: 0.0629906\ttotal: 1.51s\tremaining: 1.5s\n",
            "502:\tlearn: 0.0628878\ttotal: 1.52s\tremaining: 1.5s\n",
            "503:\tlearn: 0.0628052\ttotal: 1.52s\tremaining: 1.5s\n",
            "504:\tlearn: 0.0627361\ttotal: 1.52s\tremaining: 1.49s\n",
            "505:\tlearn: 0.0626524\ttotal: 1.52s\tremaining: 1.49s\n",
            "506:\tlearn: 0.0625679\ttotal: 1.53s\tremaining: 1.49s\n",
            "507:\tlearn: 0.0624946\ttotal: 1.53s\tremaining: 1.48s\n",
            "508:\tlearn: 0.0624081\ttotal: 1.53s\tremaining: 1.48s\n",
            "509:\tlearn: 0.0623666\ttotal: 1.53s\tremaining: 1.48s\n",
            "510:\tlearn: 0.0623493\ttotal: 1.54s\tremaining: 1.48s\n",
            "511:\tlearn: 0.0622439\ttotal: 1.55s\tremaining: 1.47s\n",
            "512:\tlearn: 0.0621255\ttotal: 1.55s\tremaining: 1.47s\n",
            "513:\tlearn: 0.0620425\ttotal: 1.55s\tremaining: 1.47s\n",
            "514:\tlearn: 0.0619528\ttotal: 1.55s\tremaining: 1.46s\n",
            "515:\tlearn: 0.0618871\ttotal: 1.56s\tremaining: 1.46s\n",
            "516:\tlearn: 0.0618078\ttotal: 1.56s\tremaining: 1.46s\n",
            "517:\tlearn: 0.0617115\ttotal: 1.56s\tremaining: 1.45s\n",
            "518:\tlearn: 0.0616361\ttotal: 1.56s\tremaining: 1.45s\n",
            "519:\tlearn: 0.0615452\ttotal: 1.57s\tremaining: 1.45s\n",
            "520:\tlearn: 0.0614246\ttotal: 1.57s\tremaining: 1.44s\n",
            "521:\tlearn: 0.0613263\ttotal: 1.57s\tremaining: 1.44s\n",
            "522:\tlearn: 0.0613095\ttotal: 1.58s\tremaining: 1.44s\n",
            "523:\tlearn: 0.0612653\ttotal: 1.58s\tremaining: 1.43s\n",
            "524:\tlearn: 0.0612344\ttotal: 1.58s\tremaining: 1.43s\n",
            "525:\tlearn: 0.0611884\ttotal: 1.58s\tremaining: 1.43s\n",
            "526:\tlearn: 0.0611185\ttotal: 1.59s\tremaining: 1.42s\n",
            "527:\tlearn: 0.0610874\ttotal: 1.59s\tremaining: 1.42s\n",
            "528:\tlearn: 0.0610002\ttotal: 1.59s\tremaining: 1.42s\n",
            "529:\tlearn: 0.0609815\ttotal: 1.59s\tremaining: 1.41s\n",
            "530:\tlearn: 0.0608622\ttotal: 1.6s\tremaining: 1.41s\n",
            "531:\tlearn: 0.0607771\ttotal: 1.6s\tremaining: 1.41s\n",
            "532:\tlearn: 0.0607362\ttotal: 1.6s\tremaining: 1.4s\n",
            "533:\tlearn: 0.0607044\ttotal: 1.6s\tremaining: 1.4s\n",
            "534:\tlearn: 0.0606864\ttotal: 1.61s\tremaining: 1.4s\n",
            "535:\tlearn: 0.0606122\ttotal: 1.61s\tremaining: 1.39s\n",
            "536:\tlearn: 0.0605573\ttotal: 1.61s\tremaining: 1.39s\n",
            "537:\tlearn: 0.0605442\ttotal: 1.62s\tremaining: 1.39s\n",
            "538:\tlearn: 0.0605385\ttotal: 1.62s\tremaining: 1.39s\n",
            "539:\tlearn: 0.0605024\ttotal: 1.62s\tremaining: 1.38s\n",
            "540:\tlearn: 0.0604123\ttotal: 1.63s\tremaining: 1.38s\n",
            "541:\tlearn: 0.0603745\ttotal: 1.63s\tremaining: 1.38s\n",
            "542:\tlearn: 0.0603486\ttotal: 1.63s\tremaining: 1.37s\n",
            "543:\tlearn: 0.0602855\ttotal: 1.63s\tremaining: 1.37s\n",
            "544:\tlearn: 0.0601284\ttotal: 1.64s\tremaining: 1.37s\n",
            "545:\tlearn: 0.0600781\ttotal: 1.64s\tremaining: 1.36s\n",
            "546:\tlearn: 0.0599745\ttotal: 1.64s\tremaining: 1.36s\n",
            "547:\tlearn: 0.0599504\ttotal: 1.64s\tremaining: 1.36s\n",
            "548:\tlearn: 0.0598380\ttotal: 1.65s\tremaining: 1.35s\n",
            "549:\tlearn: 0.0597635\ttotal: 1.65s\tremaining: 1.35s\n",
            "550:\tlearn: 0.0597228\ttotal: 1.65s\tremaining: 1.35s\n",
            "551:\tlearn: 0.0596538\ttotal: 1.66s\tremaining: 1.34s\n",
            "552:\tlearn: 0.0596298\ttotal: 1.66s\tremaining: 1.34s\n",
            "553:\tlearn: 0.0596218\ttotal: 1.66s\tremaining: 1.34s\n",
            "554:\tlearn: 0.0595673\ttotal: 1.66s\tremaining: 1.33s\n",
            "555:\tlearn: 0.0594539\ttotal: 1.67s\tremaining: 1.33s\n",
            "556:\tlearn: 0.0593926\ttotal: 1.67s\tremaining: 1.33s\n",
            "557:\tlearn: 0.0593137\ttotal: 1.67s\tremaining: 1.32s\n",
            "558:\tlearn: 0.0592179\ttotal: 1.67s\tremaining: 1.32s\n",
            "559:\tlearn: 0.0591237\ttotal: 1.68s\tremaining: 1.32s\n",
            "560:\tlearn: 0.0590747\ttotal: 1.68s\tremaining: 1.31s\n",
            "561:\tlearn: 0.0590637\ttotal: 1.68s\tremaining: 1.31s\n",
            "562:\tlearn: 0.0589804\ttotal: 1.69s\tremaining: 1.31s\n",
            "563:\tlearn: 0.0588449\ttotal: 1.69s\tremaining: 1.3s\n",
            "564:\tlearn: 0.0587795\ttotal: 1.69s\tremaining: 1.3s\n",
            "565:\tlearn: 0.0586995\ttotal: 1.69s\tremaining: 1.3s\n",
            "566:\tlearn: 0.0586302\ttotal: 1.7s\tremaining: 1.3s\n",
            "567:\tlearn: 0.0585383\ttotal: 1.7s\tremaining: 1.29s\n",
            "568:\tlearn: 0.0584682\ttotal: 1.7s\tremaining: 1.29s\n",
            "569:\tlearn: 0.0583679\ttotal: 1.71s\tremaining: 1.29s\n",
            "570:\tlearn: 0.0583124\ttotal: 1.71s\tremaining: 1.28s\n",
            "571:\tlearn: 0.0582554\ttotal: 1.71s\tremaining: 1.28s\n",
            "572:\tlearn: 0.0581820\ttotal: 1.72s\tremaining: 1.28s\n",
            "573:\tlearn: 0.0580980\ttotal: 1.72s\tremaining: 1.27s\n",
            "574:\tlearn: 0.0580529\ttotal: 1.72s\tremaining: 1.27s\n",
            "575:\tlearn: 0.0580384\ttotal: 1.72s\tremaining: 1.27s\n",
            "576:\tlearn: 0.0579438\ttotal: 1.73s\tremaining: 1.26s\n",
            "577:\tlearn: 0.0578802\ttotal: 1.73s\tremaining: 1.26s\n",
            "578:\tlearn: 0.0577962\ttotal: 1.74s\tremaining: 1.26s\n",
            "579:\tlearn: 0.0577560\ttotal: 1.74s\tremaining: 1.26s\n",
            "580:\tlearn: 0.0576595\ttotal: 1.74s\tremaining: 1.26s\n",
            "581:\tlearn: 0.0576419\ttotal: 1.75s\tremaining: 1.25s\n",
            "582:\tlearn: 0.0576181\ttotal: 1.75s\tremaining: 1.25s\n",
            "583:\tlearn: 0.0575223\ttotal: 1.75s\tremaining: 1.25s\n",
            "584:\tlearn: 0.0575064\ttotal: 1.75s\tremaining: 1.24s\n",
            "585:\tlearn: 0.0574961\ttotal: 1.76s\tremaining: 1.24s\n",
            "586:\tlearn: 0.0574869\ttotal: 1.76s\tremaining: 1.24s\n",
            "587:\tlearn: 0.0574792\ttotal: 1.76s\tremaining: 1.23s\n",
            "588:\tlearn: 0.0574080\ttotal: 1.76s\tremaining: 1.23s\n",
            "589:\tlearn: 0.0573653\ttotal: 1.77s\tremaining: 1.23s\n",
            "590:\tlearn: 0.0572838\ttotal: 1.77s\tremaining: 1.23s\n",
            "591:\tlearn: 0.0571624\ttotal: 1.77s\tremaining: 1.22s\n",
            "592:\tlearn: 0.0571248\ttotal: 1.78s\tremaining: 1.22s\n",
            "593:\tlearn: 0.0569773\ttotal: 1.78s\tremaining: 1.22s\n",
            "594:\tlearn: 0.0568913\ttotal: 1.78s\tremaining: 1.21s\n",
            "595:\tlearn: 0.0568752\ttotal: 1.78s\tremaining: 1.21s\n",
            "596:\tlearn: 0.0567898\ttotal: 1.79s\tremaining: 1.21s\n",
            "597:\tlearn: 0.0567179\ttotal: 1.79s\tremaining: 1.2s\n",
            "598:\tlearn: 0.0566512\ttotal: 1.79s\tremaining: 1.2s\n",
            "599:\tlearn: 0.0566399\ttotal: 1.8s\tremaining: 1.2s\n",
            "600:\tlearn: 0.0565490\ttotal: 1.8s\tremaining: 1.19s\n",
            "601:\tlearn: 0.0564399\ttotal: 1.8s\tremaining: 1.19s\n",
            "602:\tlearn: 0.0563672\ttotal: 1.8s\tremaining: 1.19s\n",
            "603:\tlearn: 0.0563231\ttotal: 1.81s\tremaining: 1.18s\n",
            "604:\tlearn: 0.0562775\ttotal: 1.81s\tremaining: 1.18s\n",
            "605:\tlearn: 0.0562223\ttotal: 1.81s\tremaining: 1.18s\n",
            "606:\tlearn: 0.0561824\ttotal: 1.81s\tremaining: 1.18s\n",
            "607:\tlearn: 0.0561330\ttotal: 1.82s\tremaining: 1.17s\n",
            "608:\tlearn: 0.0560754\ttotal: 1.82s\tremaining: 1.17s\n",
            "609:\tlearn: 0.0559333\ttotal: 1.82s\tremaining: 1.17s\n",
            "610:\tlearn: 0.0558196\ttotal: 1.83s\tremaining: 1.16s\n",
            "611:\tlearn: 0.0558049\ttotal: 1.83s\tremaining: 1.16s\n",
            "612:\tlearn: 0.0557408\ttotal: 1.83s\tremaining: 1.16s\n",
            "613:\tlearn: 0.0556324\ttotal: 1.83s\tremaining: 1.15s\n",
            "614:\tlearn: 0.0556203\ttotal: 1.84s\tremaining: 1.15s\n",
            "615:\tlearn: 0.0555669\ttotal: 1.84s\tremaining: 1.15s\n",
            "616:\tlearn: 0.0555604\ttotal: 1.84s\tremaining: 1.14s\n",
            "617:\tlearn: 0.0555100\ttotal: 1.85s\tremaining: 1.14s\n",
            "618:\tlearn: 0.0555007\ttotal: 1.85s\tremaining: 1.14s\n",
            "619:\tlearn: 0.0554893\ttotal: 1.85s\tremaining: 1.14s\n",
            "620:\tlearn: 0.0554279\ttotal: 1.85s\tremaining: 1.13s\n",
            "621:\tlearn: 0.0554164\ttotal: 1.86s\tremaining: 1.13s\n",
            "622:\tlearn: 0.0552989\ttotal: 1.86s\tremaining: 1.13s\n",
            "623:\tlearn: 0.0552898\ttotal: 1.86s\tremaining: 1.12s\n",
            "624:\tlearn: 0.0552259\ttotal: 1.87s\tremaining: 1.12s\n",
            "625:\tlearn: 0.0552046\ttotal: 1.87s\tremaining: 1.12s\n",
            "626:\tlearn: 0.0551989\ttotal: 1.87s\tremaining: 1.11s\n",
            "627:\tlearn: 0.0551664\ttotal: 1.88s\tremaining: 1.11s\n",
            "628:\tlearn: 0.0550890\ttotal: 1.88s\tremaining: 1.11s\n",
            "629:\tlearn: 0.0550695\ttotal: 1.88s\tremaining: 1.1s\n",
            "630:\tlearn: 0.0549813\ttotal: 1.88s\tremaining: 1.1s\n",
            "631:\tlearn: 0.0549353\ttotal: 1.89s\tremaining: 1.1s\n",
            "632:\tlearn: 0.0548976\ttotal: 1.89s\tremaining: 1.09s\n",
            "633:\tlearn: 0.0548481\ttotal: 1.89s\tremaining: 1.09s\n",
            "634:\tlearn: 0.0547579\ttotal: 1.9s\tremaining: 1.09s\n",
            "635:\tlearn: 0.0547481\ttotal: 1.9s\tremaining: 1.09s\n",
            "636:\tlearn: 0.0547135\ttotal: 1.9s\tremaining: 1.08s\n",
            "637:\tlearn: 0.0546574\ttotal: 1.9s\tremaining: 1.08s\n",
            "638:\tlearn: 0.0546071\ttotal: 1.91s\tremaining: 1.08s\n",
            "639:\tlearn: 0.0545984\ttotal: 1.91s\tremaining: 1.07s\n",
            "640:\tlearn: 0.0545943\ttotal: 1.91s\tremaining: 1.07s\n",
            "641:\tlearn: 0.0544928\ttotal: 1.91s\tremaining: 1.07s\n",
            "642:\tlearn: 0.0544452\ttotal: 1.92s\tremaining: 1.06s\n",
            "643:\tlearn: 0.0543677\ttotal: 1.92s\tremaining: 1.06s\n",
            "644:\tlearn: 0.0543045\ttotal: 1.92s\tremaining: 1.06s\n",
            "645:\tlearn: 0.0542658\ttotal: 1.93s\tremaining: 1.06s\n",
            "646:\tlearn: 0.0542249\ttotal: 1.93s\tremaining: 1.05s\n",
            "647:\tlearn: 0.0541496\ttotal: 1.94s\tremaining: 1.05s\n",
            "648:\tlearn: 0.0540606\ttotal: 1.94s\tremaining: 1.05s\n",
            "649:\tlearn: 0.0540367\ttotal: 1.94s\tremaining: 1.04s\n",
            "650:\tlearn: 0.0539379\ttotal: 1.94s\tremaining: 1.04s\n",
            "651:\tlearn: 0.0539207\ttotal: 1.95s\tremaining: 1.04s\n",
            "652:\tlearn: 0.0538824\ttotal: 1.95s\tremaining: 1.03s\n",
            "653:\tlearn: 0.0538735\ttotal: 1.95s\tremaining: 1.03s\n",
            "654:\tlearn: 0.0538143\ttotal: 1.95s\tremaining: 1.03s\n",
            "655:\tlearn: 0.0537423\ttotal: 1.96s\tremaining: 1.03s\n",
            "656:\tlearn: 0.0537063\ttotal: 1.96s\tremaining: 1.02s\n",
            "657:\tlearn: 0.0536892\ttotal: 1.96s\tremaining: 1.02s\n",
            "658:\tlearn: 0.0536503\ttotal: 1.96s\tremaining: 1.02s\n",
            "659:\tlearn: 0.0536029\ttotal: 1.97s\tremaining: 1.01s\n",
            "660:\tlearn: 0.0535075\ttotal: 1.97s\tremaining: 1.01s\n",
            "661:\tlearn: 0.0534473\ttotal: 1.97s\tremaining: 1.01s\n",
            "662:\tlearn: 0.0533544\ttotal: 1.98s\tremaining: 1s\n",
            "663:\tlearn: 0.0532903\ttotal: 1.98s\tremaining: 1s\n",
            "664:\tlearn: 0.0531772\ttotal: 1.98s\tremaining: 998ms\n",
            "665:\tlearn: 0.0531695\ttotal: 1.98s\tremaining: 995ms\n",
            "666:\tlearn: 0.0531605\ttotal: 1.99s\tremaining: 992ms\n",
            "667:\tlearn: 0.0531002\ttotal: 1.99s\tremaining: 988ms\n",
            "668:\tlearn: 0.0530646\ttotal: 1.99s\tremaining: 985ms\n",
            "669:\tlearn: 0.0529472\ttotal: 1.99s\tremaining: 982ms\n",
            "670:\tlearn: 0.0528884\ttotal: 2s\tremaining: 979ms\n",
            "671:\tlearn: 0.0528758\ttotal: 2s\tremaining: 976ms\n",
            "672:\tlearn: 0.0528490\ttotal: 2s\tremaining: 973ms\n",
            "673:\tlearn: 0.0527955\ttotal: 2s\tremaining: 970ms\n",
            "674:\tlearn: 0.0527294\ttotal: 2.01s\tremaining: 967ms\n",
            "675:\tlearn: 0.0526105\ttotal: 2.01s\tremaining: 964ms\n",
            "676:\tlearn: 0.0525666\ttotal: 2.01s\tremaining: 961ms\n",
            "677:\tlearn: 0.0524697\ttotal: 2.02s\tremaining: 957ms\n",
            "678:\tlearn: 0.0524078\ttotal: 2.02s\tremaining: 954ms\n",
            "679:\tlearn: 0.0523304\ttotal: 2.02s\tremaining: 951ms\n",
            "680:\tlearn: 0.0523193\ttotal: 2.02s\tremaining: 948ms\n",
            "681:\tlearn: 0.0522679\ttotal: 2.03s\tremaining: 945ms\n",
            "682:\tlearn: 0.0522399\ttotal: 2.03s\tremaining: 942ms\n",
            "683:\tlearn: 0.0522069\ttotal: 2.03s\tremaining: 939ms\n",
            "684:\tlearn: 0.0521966\ttotal: 2.03s\tremaining: 936ms\n",
            "685:\tlearn: 0.0521299\ttotal: 2.04s\tremaining: 933ms\n",
            "686:\tlearn: 0.0520532\ttotal: 2.04s\tremaining: 930ms\n",
            "687:\tlearn: 0.0520040\ttotal: 2.04s\tremaining: 926ms\n",
            "688:\tlearn: 0.0519278\ttotal: 2.04s\tremaining: 923ms\n",
            "689:\tlearn: 0.0518883\ttotal: 2.05s\tremaining: 920ms\n",
            "690:\tlearn: 0.0518778\ttotal: 2.05s\tremaining: 917ms\n",
            "691:\tlearn: 0.0517923\ttotal: 2.05s\tremaining: 914ms\n",
            "692:\tlearn: 0.0517558\ttotal: 2.06s\tremaining: 914ms\n",
            "693:\tlearn: 0.0517090\ttotal: 2.07s\tremaining: 912ms\n",
            "694:\tlearn: 0.0516063\ttotal: 2.08s\tremaining: 912ms\n",
            "695:\tlearn: 0.0515477\ttotal: 2.08s\tremaining: 909ms\n",
            "696:\tlearn: 0.0515390\ttotal: 2.08s\tremaining: 906ms\n",
            "697:\tlearn: 0.0515112\ttotal: 2.08s\tremaining: 902ms\n",
            "698:\tlearn: 0.0514810\ttotal: 2.09s\tremaining: 899ms\n",
            "699:\tlearn: 0.0514659\ttotal: 2.09s\tremaining: 896ms\n",
            "700:\tlearn: 0.0514105\ttotal: 2.09s\tremaining: 893ms\n",
            "701:\tlearn: 0.0514058\ttotal: 2.1s\tremaining: 890ms\n",
            "702:\tlearn: 0.0513963\ttotal: 2.1s\tremaining: 888ms\n",
            "703:\tlearn: 0.0513064\ttotal: 2.1s\tremaining: 884ms\n",
            "704:\tlearn: 0.0512266\ttotal: 2.11s\tremaining: 881ms\n",
            "705:\tlearn: 0.0512068\ttotal: 2.11s\tremaining: 878ms\n",
            "706:\tlearn: 0.0511725\ttotal: 2.11s\tremaining: 875ms\n",
            "707:\tlearn: 0.0511501\ttotal: 2.11s\tremaining: 872ms\n",
            "708:\tlearn: 0.0511112\ttotal: 2.12s\tremaining: 870ms\n",
            "709:\tlearn: 0.0511021\ttotal: 2.12s\tremaining: 868ms\n",
            "710:\tlearn: 0.0510641\ttotal: 2.13s\tremaining: 865ms\n",
            "711:\tlearn: 0.0510471\ttotal: 2.13s\tremaining: 862ms\n",
            "712:\tlearn: 0.0509201\ttotal: 2.13s\tremaining: 859ms\n",
            "713:\tlearn: 0.0509153\ttotal: 2.14s\tremaining: 856ms\n",
            "714:\tlearn: 0.0509117\ttotal: 2.14s\tremaining: 853ms\n",
            "715:\tlearn: 0.0508927\ttotal: 2.14s\tremaining: 850ms\n",
            "716:\tlearn: 0.0508107\ttotal: 2.15s\tremaining: 847ms\n",
            "717:\tlearn: 0.0507577\ttotal: 2.15s\tremaining: 844ms\n",
            "718:\tlearn: 0.0507268\ttotal: 2.15s\tremaining: 840ms\n",
            "719:\tlearn: 0.0506893\ttotal: 2.15s\tremaining: 837ms\n",
            "720:\tlearn: 0.0506315\ttotal: 2.15s\tremaining: 834ms\n",
            "721:\tlearn: 0.0505948\ttotal: 2.16s\tremaining: 831ms\n",
            "722:\tlearn: 0.0505014\ttotal: 2.16s\tremaining: 828ms\n",
            "723:\tlearn: 0.0504540\ttotal: 2.16s\tremaining: 825ms\n",
            "724:\tlearn: 0.0504184\ttotal: 2.17s\tremaining: 822ms\n",
            "725:\tlearn: 0.0503475\ttotal: 2.17s\tremaining: 819ms\n",
            "726:\tlearn: 0.0503196\ttotal: 2.17s\tremaining: 816ms\n",
            "727:\tlearn: 0.0502216\ttotal: 2.18s\tremaining: 813ms\n",
            "728:\tlearn: 0.0501615\ttotal: 2.18s\tremaining: 810ms\n",
            "729:\tlearn: 0.0501132\ttotal: 2.18s\tremaining: 807ms\n",
            "730:\tlearn: 0.0500469\ttotal: 2.18s\tremaining: 804ms\n",
            "731:\tlearn: 0.0500386\ttotal: 2.19s\tremaining: 801ms\n",
            "732:\tlearn: 0.0499645\ttotal: 2.19s\tremaining: 798ms\n",
            "733:\tlearn: 0.0499230\ttotal: 2.19s\tremaining: 795ms\n",
            "734:\tlearn: 0.0498633\ttotal: 2.19s\tremaining: 792ms\n",
            "735:\tlearn: 0.0498281\ttotal: 2.2s\tremaining: 788ms\n",
            "736:\tlearn: 0.0498095\ttotal: 2.2s\tremaining: 785ms\n",
            "737:\tlearn: 0.0498055\ttotal: 2.2s\tremaining: 782ms\n",
            "738:\tlearn: 0.0497130\ttotal: 2.21s\tremaining: 779ms\n",
            "739:\tlearn: 0.0496513\ttotal: 2.21s\tremaining: 776ms\n",
            "740:\tlearn: 0.0496244\ttotal: 2.21s\tremaining: 773ms\n",
            "741:\tlearn: 0.0496061\ttotal: 2.21s\tremaining: 770ms\n",
            "742:\tlearn: 0.0495481\ttotal: 2.22s\tremaining: 767ms\n",
            "743:\tlearn: 0.0494761\ttotal: 2.22s\tremaining: 764ms\n",
            "744:\tlearn: 0.0494116\ttotal: 2.22s\tremaining: 761ms\n",
            "745:\tlearn: 0.0493579\ttotal: 2.23s\tremaining: 758ms\n",
            "746:\tlearn: 0.0492839\ttotal: 2.23s\tremaining: 755ms\n",
            "747:\tlearn: 0.0492741\ttotal: 2.23s\tremaining: 752ms\n",
            "748:\tlearn: 0.0491933\ttotal: 2.23s\tremaining: 749ms\n",
            "749:\tlearn: 0.0491846\ttotal: 2.24s\tremaining: 746ms\n",
            "750:\tlearn: 0.0491662\ttotal: 2.24s\tremaining: 743ms\n",
            "751:\tlearn: 0.0491552\ttotal: 2.24s\tremaining: 740ms\n",
            "752:\tlearn: 0.0490918\ttotal: 2.25s\tremaining: 737ms\n",
            "753:\tlearn: 0.0490820\ttotal: 2.25s\tremaining: 734ms\n",
            "754:\tlearn: 0.0490591\ttotal: 2.25s\tremaining: 731ms\n",
            "755:\tlearn: 0.0490287\ttotal: 2.25s\tremaining: 728ms\n",
            "756:\tlearn: 0.0489906\ttotal: 2.26s\tremaining: 725ms\n",
            "757:\tlearn: 0.0489571\ttotal: 2.26s\tremaining: 722ms\n",
            "758:\tlearn: 0.0488747\ttotal: 2.26s\tremaining: 718ms\n",
            "759:\tlearn: 0.0488664\ttotal: 2.27s\tremaining: 715ms\n",
            "760:\tlearn: 0.0488392\ttotal: 2.27s\tremaining: 712ms\n",
            "761:\tlearn: 0.0487742\ttotal: 2.27s\tremaining: 709ms\n",
            "762:\tlearn: 0.0487381\ttotal: 2.27s\tremaining: 706ms\n",
            "763:\tlearn: 0.0487288\ttotal: 2.28s\tremaining: 703ms\n",
            "764:\tlearn: 0.0486775\ttotal: 2.28s\tremaining: 700ms\n",
            "765:\tlearn: 0.0486211\ttotal: 2.28s\tremaining: 697ms\n",
            "766:\tlearn: 0.0485601\ttotal: 2.29s\tremaining: 694ms\n",
            "767:\tlearn: 0.0484974\ttotal: 2.29s\tremaining: 691ms\n",
            "768:\tlearn: 0.0484885\ttotal: 2.29s\tremaining: 688ms\n",
            "769:\tlearn: 0.0484140\ttotal: 2.29s\tremaining: 685ms\n",
            "770:\tlearn: 0.0483587\ttotal: 2.29s\tremaining: 682ms\n",
            "771:\tlearn: 0.0482828\ttotal: 2.3s\tremaining: 679ms\n",
            "772:\tlearn: 0.0482220\ttotal: 2.3s\tremaining: 676ms\n",
            "773:\tlearn: 0.0481223\ttotal: 2.3s\tremaining: 673ms\n",
            "774:\tlearn: 0.0481129\ttotal: 2.31s\tremaining: 670ms\n",
            "775:\tlearn: 0.0480654\ttotal: 2.31s\tremaining: 667ms\n",
            "776:\tlearn: 0.0480598\ttotal: 2.31s\tremaining: 665ms\n",
            "777:\tlearn: 0.0479984\ttotal: 2.32s\tremaining: 662ms\n",
            "778:\tlearn: 0.0479323\ttotal: 2.32s\tremaining: 659ms\n",
            "779:\tlearn: 0.0478881\ttotal: 2.32s\tremaining: 656ms\n",
            "780:\tlearn: 0.0478737\ttotal: 2.33s\tremaining: 652ms\n",
            "781:\tlearn: 0.0478063\ttotal: 2.33s\tremaining: 649ms\n",
            "782:\tlearn: 0.0477973\ttotal: 2.33s\tremaining: 646ms\n",
            "783:\tlearn: 0.0477896\ttotal: 2.33s\tremaining: 643ms\n",
            "784:\tlearn: 0.0477364\ttotal: 2.34s\tremaining: 640ms\n",
            "785:\tlearn: 0.0477160\ttotal: 2.34s\tremaining: 637ms\n",
            "786:\tlearn: 0.0476824\ttotal: 2.34s\tremaining: 634ms\n",
            "787:\tlearn: 0.0476572\ttotal: 2.34s\tremaining: 631ms\n",
            "788:\tlearn: 0.0476381\ttotal: 2.35s\tremaining: 628ms\n",
            "789:\tlearn: 0.0476143\ttotal: 2.35s\tremaining: 625ms\n",
            "790:\tlearn: 0.0475700\ttotal: 2.35s\tremaining: 622ms\n",
            "791:\tlearn: 0.0475138\ttotal: 2.35s\tremaining: 619ms\n",
            "792:\tlearn: 0.0474145\ttotal: 2.36s\tremaining: 616ms\n",
            "793:\tlearn: 0.0473589\ttotal: 2.36s\tremaining: 612ms\n",
            "794:\tlearn: 0.0473467\ttotal: 2.36s\tremaining: 609ms\n",
            "795:\tlearn: 0.0472861\ttotal: 2.37s\tremaining: 606ms\n",
            "796:\tlearn: 0.0472273\ttotal: 2.37s\tremaining: 603ms\n",
            "797:\tlearn: 0.0471493\ttotal: 2.37s\tremaining: 600ms\n",
            "798:\tlearn: 0.0471306\ttotal: 2.37s\tremaining: 597ms\n",
            "799:\tlearn: 0.0470549\ttotal: 2.38s\tremaining: 594ms\n",
            "800:\tlearn: 0.0469854\ttotal: 2.38s\tremaining: 591ms\n",
            "801:\tlearn: 0.0469654\ttotal: 2.38s\tremaining: 588ms\n",
            "802:\tlearn: 0.0469288\ttotal: 2.38s\tremaining: 585ms\n",
            "803:\tlearn: 0.0468687\ttotal: 2.39s\tremaining: 582ms\n",
            "804:\tlearn: 0.0468587\ttotal: 2.39s\tremaining: 579ms\n",
            "805:\tlearn: 0.0467493\ttotal: 2.39s\tremaining: 576ms\n",
            "806:\tlearn: 0.0467319\ttotal: 2.4s\tremaining: 573ms\n",
            "807:\tlearn: 0.0467163\ttotal: 2.4s\tremaining: 570ms\n",
            "808:\tlearn: 0.0466833\ttotal: 2.4s\tremaining: 567ms\n",
            "809:\tlearn: 0.0466637\ttotal: 2.4s\tremaining: 564ms\n",
            "810:\tlearn: 0.0466467\ttotal: 2.41s\tremaining: 561ms\n",
            "811:\tlearn: 0.0466437\ttotal: 2.41s\tremaining: 558ms\n",
            "812:\tlearn: 0.0466369\ttotal: 2.41s\tremaining: 555ms\n",
            "813:\tlearn: 0.0466062\ttotal: 2.41s\tremaining: 552ms\n",
            "814:\tlearn: 0.0465597\ttotal: 2.42s\tremaining: 549ms\n",
            "815:\tlearn: 0.0464751\ttotal: 2.42s\tremaining: 546ms\n",
            "816:\tlearn: 0.0464492\ttotal: 2.42s\tremaining: 543ms\n",
            "817:\tlearn: 0.0463979\ttotal: 2.42s\tremaining: 540ms\n",
            "818:\tlearn: 0.0463252\ttotal: 2.43s\tremaining: 537ms\n",
            "819:\tlearn: 0.0462723\ttotal: 2.43s\tremaining: 534ms\n",
            "820:\tlearn: 0.0462159\ttotal: 2.43s\tremaining: 531ms\n",
            "821:\tlearn: 0.0461737\ttotal: 2.44s\tremaining: 528ms\n",
            "822:\tlearn: 0.0460870\ttotal: 2.44s\tremaining: 525ms\n",
            "823:\tlearn: 0.0460171\ttotal: 2.44s\tremaining: 522ms\n",
            "824:\tlearn: 0.0459576\ttotal: 2.45s\tremaining: 519ms\n",
            "825:\tlearn: 0.0459155\ttotal: 2.45s\tremaining: 516ms\n",
            "826:\tlearn: 0.0458713\ttotal: 2.45s\tremaining: 513ms\n",
            "827:\tlearn: 0.0458585\ttotal: 2.46s\tremaining: 510ms\n",
            "828:\tlearn: 0.0457711\ttotal: 2.46s\tremaining: 507ms\n",
            "829:\tlearn: 0.0457080\ttotal: 2.46s\tremaining: 504ms\n",
            "830:\tlearn: 0.0456681\ttotal: 2.46s\tremaining: 501ms\n",
            "831:\tlearn: 0.0456633\ttotal: 2.47s\tremaining: 498ms\n",
            "832:\tlearn: 0.0456402\ttotal: 2.47s\tremaining: 495ms\n",
            "833:\tlearn: 0.0455977\ttotal: 2.47s\tremaining: 492ms\n",
            "834:\tlearn: 0.0455897\ttotal: 2.48s\tremaining: 489ms\n",
            "835:\tlearn: 0.0455689\ttotal: 2.48s\tremaining: 486ms\n",
            "836:\tlearn: 0.0455468\ttotal: 2.48s\tremaining: 483ms\n",
            "837:\tlearn: 0.0455421\ttotal: 2.48s\tremaining: 480ms\n",
            "838:\tlearn: 0.0455271\ttotal: 2.48s\tremaining: 477ms\n",
            "839:\tlearn: 0.0455218\ttotal: 2.49s\tremaining: 474ms\n",
            "840:\tlearn: 0.0454689\ttotal: 2.49s\tremaining: 471ms\n",
            "841:\tlearn: 0.0454518\ttotal: 2.49s\tremaining: 468ms\n",
            "842:\tlearn: 0.0454464\ttotal: 2.5s\tremaining: 465ms\n",
            "843:\tlearn: 0.0454304\ttotal: 2.5s\tremaining: 462ms\n",
            "844:\tlearn: 0.0453600\ttotal: 2.5s\tremaining: 459ms\n",
            "845:\tlearn: 0.0453417\ttotal: 2.51s\tremaining: 456ms\n",
            "846:\tlearn: 0.0452733\ttotal: 2.51s\tremaining: 454ms\n",
            "847:\tlearn: 0.0452356\ttotal: 2.52s\tremaining: 451ms\n",
            "848:\tlearn: 0.0452221\ttotal: 2.52s\tremaining: 448ms\n",
            "849:\tlearn: 0.0452153\ttotal: 2.52s\tremaining: 445ms\n",
            "850:\tlearn: 0.0451980\ttotal: 2.52s\tremaining: 442ms\n",
            "851:\tlearn: 0.0451321\ttotal: 2.53s\tremaining: 439ms\n",
            "852:\tlearn: 0.0450469\ttotal: 2.53s\tremaining: 436ms\n",
            "853:\tlearn: 0.0450323\ttotal: 2.53s\tremaining: 433ms\n",
            "854:\tlearn: 0.0450116\ttotal: 2.53s\tremaining: 430ms\n",
            "855:\tlearn: 0.0450037\ttotal: 2.54s\tremaining: 427ms\n",
            "856:\tlearn: 0.0449412\ttotal: 2.54s\tremaining: 424ms\n",
            "857:\tlearn: 0.0449081\ttotal: 2.54s\tremaining: 421ms\n",
            "858:\tlearn: 0.0448999\ttotal: 2.54s\tremaining: 418ms\n",
            "859:\tlearn: 0.0448581\ttotal: 2.55s\tremaining: 415ms\n",
            "860:\tlearn: 0.0448004\ttotal: 2.55s\tremaining: 412ms\n",
            "861:\tlearn: 0.0447358\ttotal: 2.55s\tremaining: 409ms\n",
            "862:\tlearn: 0.0447291\ttotal: 2.56s\tremaining: 406ms\n",
            "863:\tlearn: 0.0446847\ttotal: 2.56s\tremaining: 403ms\n",
            "864:\tlearn: 0.0446502\ttotal: 2.56s\tremaining: 400ms\n",
            "865:\tlearn: 0.0446252\ttotal: 2.56s\tremaining: 397ms\n",
            "866:\tlearn: 0.0446188\ttotal: 2.57s\tremaining: 394ms\n",
            "867:\tlearn: 0.0445871\ttotal: 2.57s\tremaining: 391ms\n",
            "868:\tlearn: 0.0445410\ttotal: 2.57s\tremaining: 388ms\n",
            "869:\tlearn: 0.0444927\ttotal: 2.57s\tremaining: 385ms\n",
            "870:\tlearn: 0.0444413\ttotal: 2.58s\tremaining: 382ms\n",
            "871:\tlearn: 0.0444254\ttotal: 2.58s\tremaining: 379ms\n",
            "872:\tlearn: 0.0444181\ttotal: 2.58s\tremaining: 376ms\n",
            "873:\tlearn: 0.0443657\ttotal: 2.58s\tremaining: 373ms\n",
            "874:\tlearn: 0.0443381\ttotal: 2.59s\tremaining: 370ms\n",
            "875:\tlearn: 0.0443304\ttotal: 2.59s\tremaining: 367ms\n",
            "876:\tlearn: 0.0443225\ttotal: 2.59s\tremaining: 364ms\n",
            "877:\tlearn: 0.0443202\ttotal: 2.6s\tremaining: 361ms\n",
            "878:\tlearn: 0.0442676\ttotal: 2.6s\tremaining: 358ms\n",
            "879:\tlearn: 0.0442303\ttotal: 2.6s\tremaining: 355ms\n",
            "880:\tlearn: 0.0441697\ttotal: 2.6s\tremaining: 352ms\n",
            "881:\tlearn: 0.0441165\ttotal: 2.61s\tremaining: 349ms\n",
            "882:\tlearn: 0.0440594\ttotal: 2.61s\tremaining: 346ms\n",
            "883:\tlearn: 0.0440211\ttotal: 2.61s\tremaining: 343ms\n",
            "884:\tlearn: 0.0440040\ttotal: 2.61s\tremaining: 340ms\n",
            "885:\tlearn: 0.0439786\ttotal: 2.62s\tremaining: 337ms\n",
            "886:\tlearn: 0.0439745\ttotal: 2.62s\tremaining: 334ms\n",
            "887:\tlearn: 0.0439452\ttotal: 2.62s\tremaining: 331ms\n",
            "888:\tlearn: 0.0439289\ttotal: 2.63s\tremaining: 328ms\n",
            "889:\tlearn: 0.0438804\ttotal: 2.63s\tremaining: 325ms\n",
            "890:\tlearn: 0.0438377\ttotal: 2.63s\tremaining: 322ms\n",
            "891:\tlearn: 0.0437569\ttotal: 2.63s\tremaining: 319ms\n",
            "892:\tlearn: 0.0437004\ttotal: 2.64s\tremaining: 316ms\n",
            "893:\tlearn: 0.0436929\ttotal: 2.64s\tremaining: 313ms\n",
            "894:\tlearn: 0.0436503\ttotal: 2.64s\tremaining: 310ms\n",
            "895:\tlearn: 0.0436063\ttotal: 2.64s\tremaining: 307ms\n",
            "896:\tlearn: 0.0435871\ttotal: 2.65s\tremaining: 304ms\n",
            "897:\tlearn: 0.0435577\ttotal: 2.65s\tremaining: 301ms\n",
            "898:\tlearn: 0.0435089\ttotal: 2.65s\tremaining: 298ms\n",
            "899:\tlearn: 0.0434585\ttotal: 2.65s\tremaining: 295ms\n",
            "900:\tlearn: 0.0434514\ttotal: 2.66s\tremaining: 292ms\n",
            "901:\tlearn: 0.0434486\ttotal: 2.66s\tremaining: 289ms\n",
            "902:\tlearn: 0.0434156\ttotal: 2.66s\tremaining: 286ms\n",
            "903:\tlearn: 0.0433737\ttotal: 2.67s\tremaining: 283ms\n",
            "904:\tlearn: 0.0433654\ttotal: 2.67s\tremaining: 280ms\n",
            "905:\tlearn: 0.0433231\ttotal: 2.67s\tremaining: 277ms\n",
            "906:\tlearn: 0.0433162\ttotal: 2.67s\tremaining: 274ms\n",
            "907:\tlearn: 0.0433004\ttotal: 2.68s\tremaining: 271ms\n",
            "908:\tlearn: 0.0432938\ttotal: 2.68s\tremaining: 268ms\n",
            "909:\tlearn: 0.0432415\ttotal: 2.68s\tremaining: 265ms\n",
            "910:\tlearn: 0.0432341\ttotal: 2.68s\tremaining: 262ms\n",
            "911:\tlearn: 0.0432021\ttotal: 2.69s\tremaining: 259ms\n",
            "912:\tlearn: 0.0431729\ttotal: 2.69s\tremaining: 256ms\n",
            "913:\tlearn: 0.0430994\ttotal: 2.69s\tremaining: 253ms\n",
            "914:\tlearn: 0.0430954\ttotal: 2.69s\tremaining: 250ms\n",
            "915:\tlearn: 0.0430820\ttotal: 2.7s\tremaining: 248ms\n",
            "916:\tlearn: 0.0430251\ttotal: 2.71s\tremaining: 245ms\n",
            "917:\tlearn: 0.0430186\ttotal: 2.71s\tremaining: 242ms\n",
            "918:\tlearn: 0.0429876\ttotal: 2.71s\tremaining: 239ms\n",
            "919:\tlearn: 0.0429577\ttotal: 2.71s\tremaining: 236ms\n",
            "920:\tlearn: 0.0429054\ttotal: 2.71s\tremaining: 233ms\n",
            "921:\tlearn: 0.0428795\ttotal: 2.72s\tremaining: 230ms\n",
            "922:\tlearn: 0.0428055\ttotal: 2.72s\tremaining: 227ms\n",
            "923:\tlearn: 0.0427525\ttotal: 2.72s\tremaining: 224ms\n",
            "924:\tlearn: 0.0427293\ttotal: 2.73s\tremaining: 221ms\n",
            "925:\tlearn: 0.0427100\ttotal: 2.73s\tremaining: 218ms\n",
            "926:\tlearn: 0.0427029\ttotal: 2.73s\tremaining: 215ms\n",
            "927:\tlearn: 0.0426868\ttotal: 2.73s\tremaining: 212ms\n",
            "928:\tlearn: 0.0426616\ttotal: 2.74s\tremaining: 209ms\n",
            "929:\tlearn: 0.0426070\ttotal: 2.74s\tremaining: 206ms\n",
            "930:\tlearn: 0.0425765\ttotal: 2.74s\tremaining: 203ms\n",
            "931:\tlearn: 0.0425575\ttotal: 2.74s\tremaining: 200ms\n",
            "932:\tlearn: 0.0424981\ttotal: 2.75s\tremaining: 197ms\n",
            "933:\tlearn: 0.0424702\ttotal: 2.75s\tremaining: 194ms\n",
            "934:\tlearn: 0.0424359\ttotal: 2.75s\tremaining: 191ms\n",
            "935:\tlearn: 0.0423592\ttotal: 2.75s\tremaining: 188ms\n",
            "936:\tlearn: 0.0423023\ttotal: 2.76s\tremaining: 185ms\n",
            "937:\tlearn: 0.0422848\ttotal: 2.76s\tremaining: 182ms\n",
            "938:\tlearn: 0.0422784\ttotal: 2.76s\tremaining: 179ms\n",
            "939:\tlearn: 0.0422728\ttotal: 2.77s\tremaining: 177ms\n",
            "940:\tlearn: 0.0422667\ttotal: 2.77s\tremaining: 174ms\n",
            "941:\tlearn: 0.0422076\ttotal: 2.77s\tremaining: 171ms\n",
            "942:\tlearn: 0.0421232\ttotal: 2.77s\tremaining: 168ms\n",
            "943:\tlearn: 0.0420503\ttotal: 2.78s\tremaining: 165ms\n",
            "944:\tlearn: 0.0420426\ttotal: 2.78s\tremaining: 162ms\n",
            "945:\tlearn: 0.0419853\ttotal: 2.78s\tremaining: 159ms\n",
            "946:\tlearn: 0.0419341\ttotal: 2.78s\tremaining: 156ms\n",
            "947:\tlearn: 0.0419036\ttotal: 2.79s\tremaining: 153ms\n",
            "948:\tlearn: 0.0418562\ttotal: 2.79s\tremaining: 150ms\n",
            "949:\tlearn: 0.0418447\ttotal: 2.79s\tremaining: 147ms\n",
            "950:\tlearn: 0.0418161\ttotal: 2.8s\tremaining: 144ms\n",
            "951:\tlearn: 0.0417527\ttotal: 2.8s\tremaining: 141ms\n",
            "952:\tlearn: 0.0417314\ttotal: 2.8s\tremaining: 138ms\n",
            "953:\tlearn: 0.0416804\ttotal: 2.81s\tremaining: 135ms\n",
            "954:\tlearn: 0.0416481\ttotal: 2.81s\tremaining: 132ms\n",
            "955:\tlearn: 0.0416085\ttotal: 2.81s\tremaining: 129ms\n",
            "956:\tlearn: 0.0416023\ttotal: 2.81s\tremaining: 126ms\n",
            "957:\tlearn: 0.0415561\ttotal: 2.82s\tremaining: 124ms\n",
            "958:\tlearn: 0.0415168\ttotal: 2.82s\tremaining: 121ms\n",
            "959:\tlearn: 0.0415128\ttotal: 2.82s\tremaining: 118ms\n",
            "960:\tlearn: 0.0414705\ttotal: 2.83s\tremaining: 115ms\n",
            "961:\tlearn: 0.0414444\ttotal: 2.83s\tremaining: 112ms\n",
            "962:\tlearn: 0.0414432\ttotal: 2.83s\tremaining: 109ms\n",
            "963:\tlearn: 0.0414130\ttotal: 2.83s\tremaining: 106ms\n",
            "964:\tlearn: 0.0413714\ttotal: 2.84s\tremaining: 103ms\n",
            "965:\tlearn: 0.0413198\ttotal: 2.84s\tremaining: 99.9ms\n",
            "966:\tlearn: 0.0413130\ttotal: 2.84s\tremaining: 97ms\n",
            "967:\tlearn: 0.0412697\ttotal: 2.84s\tremaining: 94ms\n",
            "968:\tlearn: 0.0412674\ttotal: 2.85s\tremaining: 91.1ms\n",
            "969:\tlearn: 0.0412215\ttotal: 2.85s\tremaining: 88.1ms\n",
            "970:\tlearn: 0.0411902\ttotal: 2.85s\tremaining: 85.2ms\n",
            "971:\tlearn: 0.0411323\ttotal: 2.85s\tremaining: 82.2ms\n",
            "972:\tlearn: 0.0410956\ttotal: 2.86s\tremaining: 79.3ms\n",
            "973:\tlearn: 0.0410785\ttotal: 2.86s\tremaining: 76.4ms\n",
            "974:\tlearn: 0.0410482\ttotal: 2.86s\tremaining: 73.4ms\n",
            "975:\tlearn: 0.0410191\ttotal: 2.87s\tremaining: 70.5ms\n",
            "976:\tlearn: 0.0409521\ttotal: 2.87s\tremaining: 67.5ms\n",
            "977:\tlearn: 0.0409355\ttotal: 2.87s\tremaining: 64.6ms\n",
            "978:\tlearn: 0.0408822\ttotal: 2.87s\tremaining: 61.7ms\n",
            "979:\tlearn: 0.0408543\ttotal: 2.88s\tremaining: 58.7ms\n",
            "980:\tlearn: 0.0408086\ttotal: 2.88s\tremaining: 55.8ms\n",
            "981:\tlearn: 0.0407696\ttotal: 2.88s\tremaining: 52.9ms\n",
            "982:\tlearn: 0.0407021\ttotal: 2.89s\tremaining: 49.9ms\n",
            "983:\tlearn: 0.0406308\ttotal: 2.89s\tremaining: 47ms\n",
            "984:\tlearn: 0.0405892\ttotal: 2.9s\tremaining: 44.1ms\n",
            "985:\tlearn: 0.0405857\ttotal: 2.9s\tremaining: 41.2ms\n",
            "986:\tlearn: 0.0405466\ttotal: 2.91s\tremaining: 38.3ms\n",
            "987:\tlearn: 0.0405139\ttotal: 2.91s\tremaining: 35.4ms\n",
            "988:\tlearn: 0.0404784\ttotal: 2.91s\tremaining: 32.4ms\n",
            "989:\tlearn: 0.0404288\ttotal: 2.92s\tremaining: 29.5ms\n",
            "990:\tlearn: 0.0403838\ttotal: 2.92s\tremaining: 26.5ms\n",
            "991:\tlearn: 0.0403624\ttotal: 2.92s\tremaining: 23.6ms\n",
            "992:\tlearn: 0.0403565\ttotal: 2.92s\tremaining: 20.6ms\n",
            "993:\tlearn: 0.0403509\ttotal: 2.93s\tremaining: 17.7ms\n",
            "994:\tlearn: 0.0403448\ttotal: 2.93s\tremaining: 14.7ms\n",
            "995:\tlearn: 0.0403394\ttotal: 2.93s\tremaining: 11.8ms\n",
            "996:\tlearn: 0.0402840\ttotal: 2.93s\tremaining: 8.83ms\n",
            "997:\tlearn: 0.0402326\ttotal: 2.94s\tremaining: 5.88ms\n",
            "998:\tlearn: 0.0402118\ttotal: 2.94s\tremaining: 2.94ms\n",
            "999:\tlearn: 0.0401645\ttotal: 2.94s\tremaining: 0us\n"
          ]
        },
        {
          "output_type": "execute_result",
          "data": {
            "text/plain": [
              "<Axes: >"
            ]
          },
          "metadata": {},
          "execution_count": 41
        },
        {
          "output_type": "display_data",
          "data": {
            "text/plain": [
              "<Figure size 1200x1000 with 2 Axes>"
            ],
            "image/png": "[encoded data removed]"
          },
          "metadata": {}
        }
      ]
    },
    {
      "cell_type": "code",
      "source": [
        "print(classification_report(y_test, y_pred_cat))"
      ],
      "metadata": {
        "colab": {
          "base_uri": "https://localhost:8080/"
        },
        "id": "Hi1m_LegtJYc",
        "outputId": "9684327e-df95-4caf-e27f-fc24535ddf69"
      },
      "id": "Hi1m_LegtJYc",
      "execution_count": 42,
      "outputs": [
        {
          "output_type": "stream",
          "name": "stdout",
          "text": [
            "              precision    recall  f1-score   support\n",
            "\n",
            "           0       0.96      0.97      0.96       494\n",
            "           1       0.97      0.97      0.97       572\n",
            "\n",
            "    accuracy                           0.97      1066\n",
            "   macro avg       0.97      0.97      0.97      1066\n",
            "weighted avg       0.97      0.97      0.97      1066\n",
            "\n"
          ]
        }
      ]
    },
    {
      "cell_type": "code",
      "source": [
        "accuracy = accuracy_score(y_test, y_pred_cat)\n",
        "CatBoost = accuracy\n",
        "print('Accuracy: {:.2f}%'.format(CatBoost * 100))"
      ],
      "metadata": {
        "colab": {
          "base_uri": "https://localhost:8080/"
        },
        "id": "drXcBjLTCTNd",
        "outputId": "9abc2c5b-7111-48ff-d039-f01aab42dc56"
      },
      "id": "drXcBjLTCTNd",
      "execution_count": 43,
      "outputs": [
        {
          "output_type": "stream",
          "name": "stdout",
          "text": [
            "Accuracy: 96.62%\n"
          ]
        }
      ]
    },
    {
      "cell_type": "markdown",
      "source": [
        "# Comparison table and plot for different models\n",
        "\n",
        "\n",
        "\n",
        "\n"
      ],
      "metadata": {
        "id": "0UGqW-hw5UsA"
      },
      "id": "0UGqW-hw5UsA"
    },
    {
      "cell_type": "code",
      "source": [
        "accuracies = {'Models' : ['DNN', 'SVM_with_Bagging', 'SVM_with_GridSearch', 'XGBoost', 'Decision_Tree', 'CatBoost'],\n",
        "              'Accuracies' : [DNN*100, SVM_with_Bagging*100, SVM_with_GridSearch*100, XGBoost*100, Decision_Tree*100, CatBoost*100]}\n",
        "all_accuracies = pd.DataFrame(accuracies)\n",
        "\n",
        "sorted_accuracies = all_accuracies.sort_values('Accuracies').reset_index().drop(columns = 'index', axis = 0)\n",
        "sorted_accuracies"
      ],
      "metadata": {
        "id": "08K__kbAB-Fm",
        "colab": {
          "base_uri": "https://localhost:8080/",
          "height": 237
        },
        "outputId": "912f1ab7-8b5e-4f22-fcc2-0161a8f1f6ab"
      },
      "id": "08K__kbAB-Fm",
      "execution_count": 44,
      "outputs": [
        {
          "output_type": "execute_result",
          "data": {
            "text/plain": [
              "                Models  Accuracies\n",
              "0     SVM_with_Bagging   83.864916\n",
              "1  SVM_with_GridSearch   92.776735\n",
              "2                  DNN   94.183865\n",
              "3        Decision_Tree   95.590994\n",
              "4              XGBoost   96.247655\n",
              "5             CatBoost   96.622889"
            ],
            "text/html": [
              "\n",
              "  <div id=\"df-2bde65d3-1d79-45c5-873c-2da6b4ff0c9d\">\n",
              "    <div class=\"colab-df-container\">\n",
              "      <div>\n",
              "<style scoped>\n",
              "    .dataframe tbody tr th:only-of-type {\n",
              "        vertical-align: middle;\n",
              "    }\n",
              "\n",
              "    .dataframe tbody tr th {\n",
              "        vertical-align: top;\n",
              "    }\n",
              "\n",
              "    .dataframe thead th {\n",
              "        text-align: right;\n",
              "    }\n",
              "</style>\n",
              "<table border=\"1\" class=\"dataframe\">\n",
              "  <thead>\n",
              "    <tr style=\"text-align: right;\">\n",
              "      <th></th>\n",
              "      <th>Models</th>\n",
              "      <th>Accuracies</th>\n",
              "    </tr>\n",
              "  </thead>\n",
              "  <tbody>\n",
              "    <tr>\n",
              "      <th>0</th>\n",
              "      <td>SVM_with_Bagging</td>\n",
              "      <td>83.864916</td>\n",
              "    </tr>\n",
              "    <tr>\n",
              "      <th>1</th>\n",
              "      <td>SVM_with_GridSearch</td>\n",
              "      <td>92.776735</td>\n",
              "    </tr>\n",
              "    <tr>\n",
              "      <th>2</th>\n",
              "      <td>DNN</td>\n",
              "      <td>94.183865</td>\n",
              "    </tr>\n",
              "    <tr>\n",
              "      <th>3</th>\n",
              "      <td>Decision_Tree</td>\n",
              "      <td>95.590994</td>\n",
              "    </tr>\n",
              "    <tr>\n",
              "      <th>4</th>\n",
              "      <td>XGBoost</td>\n",
              "      <td>96.247655</td>\n",
              "    </tr>\n",
              "    <tr>\n",
              "      <th>5</th>\n",
              "      <td>CatBoost</td>\n",
              "      <td>96.622889</td>\n",
              "    </tr>\n",
              "  </tbody>\n",
              "</table>\n",
              "</div>\n",
              "      <button class=\"colab-df-convert\" onclick=\"convertToInteractive('df-2bde65d3-1d79-45c5-873c-2da6b4ff0c9d')\"\n",
              "              title=\"Convert this dataframe to an interactive table.\"\n",
              "              style=\"display:none;\">\n",
              "        \n",
              "  <svg xmlns=\"http://www.w3.org/2000/svg\" height=\"24px\"viewBox=\"0 0 24 24\"\n",
              "       width=\"24px\">\n",
              "    <path d=\"M0 0h24v24H0V0z\" fill=\"none\"/>\n",
              "    <path d=\"M18.56 5.44l.94 2.06.94-2.06 2.06-.94-2.06-.94-.94-2.06-.94 2.06-2.06.94zm-11 1L8.5 8.5l.94-2.06 2.06-.94-2.06-.94L8.5 2.5l-.94 2.06-2.06.94zm10 10l.94 2.06.94-2.06 2.06-.94-2.06-.94-.94-2.06-.94 2.06-2.06.94z\"/><path d=\"M17.41 7.96l-1.37-1.37c-.4-.4-.92-.59-1.43-.59-.52 0-1.04.2-1.43.59L10.3 9.45l-7.72 7.72c-.78.78-.78 2.05 0 2.83L4 21.41c.39.39.9.59 1.41.59.51 0 1.02-.2 1.41-.59l7.78-7.78 2.81-2.81c.8-.78.8-2.07 0-2.86zM5.41 20L4 18.59l7.72-7.72 1.47 1.35L5.41 20z\"/>\n",
              "  </svg>\n",
              "      </button>\n",
              "      \n",
              "  <style>\n",
              "    .colab-df-container {\n",
              "      display:flex;\n",
              "      flex-wrap:wrap;\n",
              "      gap: 12px;\n",
              "    }\n",
              "\n",
              "    .colab-df-convert {\n",
              "      background-color: #E8F0FE;\n",
              "      border: none;\n",
              "      border-radius: 50%;\n",
              "      cursor: pointer;\n",
              "      display: none;\n",
              "      fill: #1967D2;\n",
              "      height: 32px;\n",
              "      padding: 0 0 0 0;\n",
              "      width: 32px;\n",
              "    }\n",
              "\n",
              "    .colab-df-convert:hover {\n",
              "      background-color: #E2EBFA;\n",
              "      box-shadow: 0px 1px 2px rgba(60, 64, 67, 0.3), 0px 1px 3px 1px rgba(60, 64, 67, 0.15);\n",
              "      fill: #174EA6;\n",
              "    }\n",
              "\n",
              "    [theme=dark] .colab-df-convert {\n",
              "      background-color: #3B4455;\n",
              "      fill: #D2E3FC;\n",
              "    }\n",
              "\n",
              "    [theme=dark] .colab-df-convert:hover {\n",
              "      background-color: #434B5C;\n",
              "      box-shadow: 0px 1px 3px 1px rgba(0, 0, 0, 0.15);\n",
              "      filter: drop-shadow(0px 1px 2px rgba(0, 0, 0, 0.3));\n",
              "      fill: #FFFFFF;\n",
              "    }\n",
              "  </style>\n",
              "\n",
              "      <script>\n",
              "        const buttonEl =\n",
              "          document.querySelector('#df-2bde65d3-1d79-45c5-873c-2da6b4ff0c9d button.colab-df-convert');\n",
              "        buttonEl.style.display =\n",
              "          google.colab.kernel.accessAllowed ? 'block' : 'none';\n",
              "\n",
              "        async function convertToInteractive(key) {\n",
              "          const element = document.querySelector('#df-2bde65d3-1d79-45c5-873c-2da6b4ff0c9d');\n",
              "          const dataTable =\n",
              "            await google.colab.kernel.invokeFunction('convertToInteractive',\n",
              "                                                     [key], {});\n",
              "          if (!dataTable) return;\n",
              "\n",
              "          const docLinkHtml = 'Like what you see? Visit the ' +\n",
              "            '<a target=\"_blank\" href=https://colab.research.google.com/notebooks/data_table.ipynb>data table notebook</a>'\n",
              "            + ' to learn more about interactive tables.';\n",
              "          element.innerHTML = '';\n",
              "          dataTable['output_type'] = 'display_data';\n",
              "          await google.colab.output.renderOutput(dataTable, element);\n",
              "          const docLink = document.createElement('div');\n",
              "          docLink.innerHTML = docLinkHtml;\n",
              "          element.appendChild(docLink);\n",
              "        }\n",
              "      </script>\n",
              "    </div>\n",
              "  </div>\n",
              "  "
            ]
          },
          "metadata": {},
          "execution_count": 44
        }
      ]
    },
    {
      "cell_type": "code",
      "source": [
        "sns.set_style(\"whitegrid\")\n",
        "sns.set(rc={'figure.figsize':(8,6)})\n",
        "sns.lineplot(x=sorted_accuracies.index, y='Accuracies', data=sorted_accuracies, marker='o', color='blue', linewidth=2.5)\n",
        "\n",
        "plt.title('Model Accuracies')\n",
        "plt.xlabel('Models')\n",
        "plt.ylabel('Accuracy (%)')\n",
        "plt.xticks(range(0, 6), sorted_accuracies['Models'], rotation = 20)\n",
        "\n",
        "plt.show()"
      ],
      "metadata": {
        "colab": {
          "base_uri": "https://localhost:8080/",
          "height": 630
        },
        "id": "JtEoAuKaXLQ-",
        "outputId": "d9a468fd-09af-425d-824a-5b7b029e44eb"
      },
      "id": "JtEoAuKaXLQ-",
      "execution_count": 45,
      "outputs": [
        {
          "output_type": "display_data",
          "data": {
            "text/plain": [
              "<Figure size 800x600 with 1 Axes>"
            ],
            "image/png": "[encoded data removed]"
          },
          "metadata": {}
        }
      ]
    }
  ],
  "metadata": {
    "kernelspec": {
      "display_name": "Python 3 (ipykernel)",
      "language": "python",
      "name": "python3"
    },
    "language_info": {
      "codemirror_mode": {
        "name": "ipython",
        "version": 3
      },
      "file_extension": ".py",
      "mimetype": "text/x-python",
      "name": "python",
      "nbconvert_exporter": "python",
      "pygments_lexer": "ipython3",
      "version": "3.10.9"
    },
    "colab": {
      "provenance": [],
      "gpuType": "A100"
    },
    "gpuClass": "standard"
  },
  "nbformat": 4,
  "nbformat_minor": 5
}